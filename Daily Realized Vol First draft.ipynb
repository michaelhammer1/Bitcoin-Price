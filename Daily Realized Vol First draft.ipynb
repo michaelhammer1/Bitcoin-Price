{
 "cells": [
  {
   "cell_type": "code",
   "execution_count": 1,
   "id": "a4bcd398",
   "metadata": {},
   "outputs": [],
   "source": [
    "import numpy as np\n",
    "import matplotlib.pyplot as plt\n",
    "import pandas as pd\n",
    "import seaborn as sns\n",
    "import datetime\n",
    "import math\n",
    "from statsmodels.tsa.stattools import adfuller\n",
    "from statsmodels.tsa.arima.model import ARIMA\n",
    "from statsmodels.graphics.tsaplots import plot_acf, plot_pacf\n",
    "from pmdarima.arima import auto_arima\n",
    "from keras.models import Sequential\n",
    "from keras.layers import Dense\n",
    "from keras.layers import ConvLSTM2D\n",
    "from keras.layers import LSTM, Flatten\n",
    "from sklearn.preprocessing import MinMaxScaler\n",
    "from sklearn.metrics import mean_squared_error"
   ]
  },
  {
   "cell_type": "code",
   "execution_count": 2,
   "id": "f68d8528",
   "metadata": {},
   "outputs": [
    {
     "data": {
      "text/html": [
       "<div>\n",
       "<style scoped>\n",
       "    .dataframe tbody tr th:only-of-type {\n",
       "        vertical-align: middle;\n",
       "    }\n",
       "\n",
       "    .dataframe tbody tr th {\n",
       "        vertical-align: top;\n",
       "    }\n",
       "\n",
       "    .dataframe thead th {\n",
       "        text-align: right;\n",
       "    }\n",
       "</style>\n",
       "<table border=\"1\" class=\"dataframe\">\n",
       "  <thead>\n",
       "    <tr style=\"text-align: right;\">\n",
       "      <th></th>\n",
       "      <th>close</th>\n",
       "      <th>realized_absolute_vol</th>\n",
       "      <th>datetime</th>\n",
       "    </tr>\n",
       "  </thead>\n",
       "  <tbody>\n",
       "    <tr>\n",
       "      <th>0</th>\n",
       "      <td>4377.22</td>\n",
       "      <td>1.181899</td>\n",
       "      <td>2017-10-01</td>\n",
       "    </tr>\n",
       "    <tr>\n",
       "      <th>1</th>\n",
       "      <td>4391.48</td>\n",
       "      <td>0.325778</td>\n",
       "      <td>2017-10-02</td>\n",
       "    </tr>\n",
       "    <tr>\n",
       "      <th>2</th>\n",
       "      <td>4315.83</td>\n",
       "      <td>1.722654</td>\n",
       "      <td>2017-10-03</td>\n",
       "    </tr>\n",
       "    <tr>\n",
       "      <th>3</th>\n",
       "      <td>4219.53</td>\n",
       "      <td>2.231321</td>\n",
       "      <td>2017-10-04</td>\n",
       "    </tr>\n",
       "    <tr>\n",
       "      <th>4</th>\n",
       "      <td>4301.09</td>\n",
       "      <td>1.932917</td>\n",
       "      <td>2017-10-05</td>\n",
       "    </tr>\n",
       "    <tr>\n",
       "      <th>...</th>\n",
       "      <td>...</td>\n",
       "      <td>...</td>\n",
       "      <td>...</td>\n",
       "    </tr>\n",
       "    <tr>\n",
       "      <th>2185</th>\n",
       "      <td>26297.00</td>\n",
       "      <td>0.186681</td>\n",
       "      <td>2023-09-25</td>\n",
       "    </tr>\n",
       "    <tr>\n",
       "      <th>2186</th>\n",
       "      <td>26208.00</td>\n",
       "      <td>0.338442</td>\n",
       "      <td>2023-09-26</td>\n",
       "    </tr>\n",
       "    <tr>\n",
       "      <th>2187</th>\n",
       "      <td>26361.00</td>\n",
       "      <td>0.583791</td>\n",
       "      <td>2023-09-27</td>\n",
       "    </tr>\n",
       "    <tr>\n",
       "      <th>2188</th>\n",
       "      <td>27026.00</td>\n",
       "      <td>2.522666</td>\n",
       "      <td>2023-09-28</td>\n",
       "    </tr>\n",
       "    <tr>\n",
       "      <th>2189</th>\n",
       "      <td>26911.00</td>\n",
       "      <td>0.425516</td>\n",
       "      <td>2023-09-29</td>\n",
       "    </tr>\n",
       "  </tbody>\n",
       "</table>\n",
       "<p>2190 rows × 3 columns</p>\n",
       "</div>"
      ],
      "text/plain": [
       "         close  realized_absolute_vol    datetime\n",
       "0      4377.22               1.181899  2017-10-01\n",
       "1      4391.48               0.325778  2017-10-02\n",
       "2      4315.83               1.722654  2017-10-03\n",
       "3      4219.53               2.231321  2017-10-04\n",
       "4      4301.09               1.932917  2017-10-05\n",
       "...        ...                    ...         ...\n",
       "2185  26297.00               0.186681  2023-09-25\n",
       "2186  26208.00               0.338442  2023-09-26\n",
       "2187  26361.00               0.583791  2023-09-27\n",
       "2188  27026.00               2.522666  2023-09-28\n",
       "2189  26911.00               0.425516  2023-09-29\n",
       "\n",
       "[2190 rows x 3 columns]"
      ]
     },
     "execution_count": 2,
     "metadata": {},
     "output_type": "execute_result"
    }
   ],
   "source": [
    "df = pd.read_csv('Data/BTC_Daily_Six_Years_simplified.csv')\n",
    "df"
   ]
  },
  {
   "cell_type": "code",
   "execution_count": 3,
   "id": "7f0578d0",
   "metadata": {},
   "outputs": [
    {
     "data": {
      "text/html": [
       "<div>\n",
       "<style scoped>\n",
       "    .dataframe tbody tr th:only-of-type {\n",
       "        vertical-align: middle;\n",
       "    }\n",
       "\n",
       "    .dataframe tbody tr th {\n",
       "        vertical-align: top;\n",
       "    }\n",
       "\n",
       "    .dataframe thead th {\n",
       "        text-align: right;\n",
       "    }\n",
       "</style>\n",
       "<table border=\"1\" class=\"dataframe\">\n",
       "  <thead>\n",
       "    <tr style=\"text-align: right;\">\n",
       "      <th></th>\n",
       "      <th>close</th>\n",
       "      <th>realized_absolute_vol</th>\n",
       "    </tr>\n",
       "    <tr>\n",
       "      <th>datetime</th>\n",
       "      <th></th>\n",
       "      <th></th>\n",
       "    </tr>\n",
       "  </thead>\n",
       "  <tbody>\n",
       "    <tr>\n",
       "      <th>2017-10-01</th>\n",
       "      <td>4377.22</td>\n",
       "      <td>1.181899</td>\n",
       "    </tr>\n",
       "    <tr>\n",
       "      <th>2017-10-02</th>\n",
       "      <td>4391.48</td>\n",
       "      <td>0.325778</td>\n",
       "    </tr>\n",
       "    <tr>\n",
       "      <th>2017-10-03</th>\n",
       "      <td>4315.83</td>\n",
       "      <td>1.722654</td>\n",
       "    </tr>\n",
       "    <tr>\n",
       "      <th>2017-10-04</th>\n",
       "      <td>4219.53</td>\n",
       "      <td>2.231321</td>\n",
       "    </tr>\n",
       "    <tr>\n",
       "      <th>2017-10-05</th>\n",
       "      <td>4301.09</td>\n",
       "      <td>1.932917</td>\n",
       "    </tr>\n",
       "    <tr>\n",
       "      <th>...</th>\n",
       "      <td>...</td>\n",
       "      <td>...</td>\n",
       "    </tr>\n",
       "    <tr>\n",
       "      <th>2023-09-25</th>\n",
       "      <td>26297.00</td>\n",
       "      <td>0.186681</td>\n",
       "    </tr>\n",
       "    <tr>\n",
       "      <th>2023-09-26</th>\n",
       "      <td>26208.00</td>\n",
       "      <td>0.338442</td>\n",
       "    </tr>\n",
       "    <tr>\n",
       "      <th>2023-09-27</th>\n",
       "      <td>26361.00</td>\n",
       "      <td>0.583791</td>\n",
       "    </tr>\n",
       "    <tr>\n",
       "      <th>2023-09-28</th>\n",
       "      <td>27026.00</td>\n",
       "      <td>2.522666</td>\n",
       "    </tr>\n",
       "    <tr>\n",
       "      <th>2023-09-29</th>\n",
       "      <td>26911.00</td>\n",
       "      <td>0.425516</td>\n",
       "    </tr>\n",
       "  </tbody>\n",
       "</table>\n",
       "<p>2190 rows × 2 columns</p>\n",
       "</div>"
      ],
      "text/plain": [
       "               close  realized_absolute_vol\n",
       "datetime                                   \n",
       "2017-10-01   4377.22               1.181899\n",
       "2017-10-02   4391.48               0.325778\n",
       "2017-10-03   4315.83               1.722654\n",
       "2017-10-04   4219.53               2.231321\n",
       "2017-10-05   4301.09               1.932917\n",
       "...              ...                    ...\n",
       "2023-09-25  26297.00               0.186681\n",
       "2023-09-26  26208.00               0.338442\n",
       "2023-09-27  26361.00               0.583791\n",
       "2023-09-28  27026.00               2.522666\n",
       "2023-09-29  26911.00               0.425516\n",
       "\n",
       "[2190 rows x 2 columns]"
      ]
     },
     "execution_count": 3,
     "metadata": {},
     "output_type": "execute_result"
    }
   ],
   "source": [
    "# Make the index the date\n",
    "df.set_index('datetime', inplace=True)\n",
    "df"
   ]
  },
  {
   "cell_type": "code",
   "execution_count": 10,
   "id": "6db57b75",
   "metadata": {},
   "outputs": [
    {
     "data": {
      "text/plain": [
       "close                    20608.873105\n",
       "realized_absolute_vol        2.599728\n",
       "dtype: float64"
      ]
     },
     "execution_count": 10,
     "metadata": {},
     "output_type": "execute_result"
    }
   ],
   "source": [
    "df.mean()"
   ]
  },
  {
   "cell_type": "code",
   "execution_count": 11,
   "id": "a7f750e7",
   "metadata": {},
   "outputs": [],
   "source": [
    "#df.index = df.index + pd.to_timedelta(\"00:00:00\")\n",
    "df.index = pd.to_datetime(df.index, format='%Y-%m-%d')\n",
    "\n",
    "# Add \"00:00:00\" to the datetime index\n",
    "df.index = df.index + pd.to_timedelta(\"00:00:00\")"
   ]
  },
  {
   "cell_type": "code",
   "execution_count": 12,
   "id": "c4b8749f",
   "metadata": {},
   "outputs": [
    {
     "data": {
      "text/html": [
       "<div>\n",
       "<style scoped>\n",
       "    .dataframe tbody tr th:only-of-type {\n",
       "        vertical-align: middle;\n",
       "    }\n",
       "\n",
       "    .dataframe tbody tr th {\n",
       "        vertical-align: top;\n",
       "    }\n",
       "\n",
       "    .dataframe thead th {\n",
       "        text-align: right;\n",
       "    }\n",
       "</style>\n",
       "<table border=\"1\" class=\"dataframe\">\n",
       "  <thead>\n",
       "    <tr style=\"text-align: right;\">\n",
       "      <th></th>\n",
       "      <th>close</th>\n",
       "      <th>realized_absolute_vol</th>\n",
       "    </tr>\n",
       "    <tr>\n",
       "      <th>datetime</th>\n",
       "      <th></th>\n",
       "      <th></th>\n",
       "    </tr>\n",
       "  </thead>\n",
       "  <tbody>\n",
       "    <tr>\n",
       "      <th>2017-10-01</th>\n",
       "      <td>4377.22</td>\n",
       "      <td>1.181899</td>\n",
       "    </tr>\n",
       "    <tr>\n",
       "      <th>2017-10-02</th>\n",
       "      <td>4391.48</td>\n",
       "      <td>0.325778</td>\n",
       "    </tr>\n",
       "    <tr>\n",
       "      <th>2017-10-03</th>\n",
       "      <td>4315.83</td>\n",
       "      <td>1.722654</td>\n",
       "    </tr>\n",
       "    <tr>\n",
       "      <th>2017-10-04</th>\n",
       "      <td>4219.53</td>\n",
       "      <td>2.231321</td>\n",
       "    </tr>\n",
       "    <tr>\n",
       "      <th>2017-10-05</th>\n",
       "      <td>4301.09</td>\n",
       "      <td>1.932917</td>\n",
       "    </tr>\n",
       "    <tr>\n",
       "      <th>...</th>\n",
       "      <td>...</td>\n",
       "      <td>...</td>\n",
       "    </tr>\n",
       "    <tr>\n",
       "      <th>2023-09-25</th>\n",
       "      <td>26297.00</td>\n",
       "      <td>0.186681</td>\n",
       "    </tr>\n",
       "    <tr>\n",
       "      <th>2023-09-26</th>\n",
       "      <td>26208.00</td>\n",
       "      <td>0.338442</td>\n",
       "    </tr>\n",
       "    <tr>\n",
       "      <th>2023-09-27</th>\n",
       "      <td>26361.00</td>\n",
       "      <td>0.583791</td>\n",
       "    </tr>\n",
       "    <tr>\n",
       "      <th>2023-09-28</th>\n",
       "      <td>27026.00</td>\n",
       "      <td>2.522666</td>\n",
       "    </tr>\n",
       "    <tr>\n",
       "      <th>2023-09-29</th>\n",
       "      <td>26911.00</td>\n",
       "      <td>0.425516</td>\n",
       "    </tr>\n",
       "  </tbody>\n",
       "</table>\n",
       "<p>2190 rows × 2 columns</p>\n",
       "</div>"
      ],
      "text/plain": [
       "               close  realized_absolute_vol\n",
       "datetime                                   \n",
       "2017-10-01   4377.22               1.181899\n",
       "2017-10-02   4391.48               0.325778\n",
       "2017-10-03   4315.83               1.722654\n",
       "2017-10-04   4219.53               2.231321\n",
       "2017-10-05   4301.09               1.932917\n",
       "...              ...                    ...\n",
       "2023-09-25  26297.00               0.186681\n",
       "2023-09-26  26208.00               0.338442\n",
       "2023-09-27  26361.00               0.583791\n",
       "2023-09-28  27026.00               2.522666\n",
       "2023-09-29  26911.00               0.425516\n",
       "\n",
       "[2190 rows x 2 columns]"
      ]
     },
     "execution_count": 12,
     "metadata": {},
     "output_type": "execute_result"
    }
   ],
   "source": [
    "df"
   ]
  },
  {
   "cell_type": "code",
   "execution_count": 13,
   "id": "b407c6a8",
   "metadata": {},
   "outputs": [
    {
     "data": {
      "text/plain": [
       "[<matplotlib.lines.Line2D at 0x12b655ad0>]"
      ]
     },
     "execution_count": 13,
     "metadata": {},
     "output_type": "execute_result"
    },
    {
     "data": {
      "image/png": "[encoded data removed]",
      "text/plain": [
       "<Figure size 1000x600 with 1 Axes>"
      ]
     },
     "metadata": {},
     "output_type": "display_data"
    }
   ],
   "source": [
    "#plt.plot(df['close'])\n",
    "plt.figure(figsize=(10, 6))  # Adjust the width and height as needed\n",
    "\n",
    "# Plot the data\n",
    "plt.plot(df['realized_absolute_vol'])\n"
   ]
  },
  {
   "cell_type": "code",
   "execution_count": 14,
   "id": "fd6dfeb6",
   "metadata": {},
   "outputs": [
    {
     "name": "stdout",
     "output_type": "stream",
     "text": [
      "               close  realized_absolute_vol\n",
      "datetime                                   \n",
      "2020-03-12   4841.67              38.980058\n",
      "2017-12-07  16599.99              21.848203\n",
      "2021-02-08  46416.45              19.450265\n",
      "2019-04-02   4899.63              18.453843\n",
      "2017-12-06  13623.50              16.669521\n"
     ]
    }
   ],
   "source": [
    "print(df.nlargest(5, 'realized_absolute_vol'))"
   ]
  },
  {
   "cell_type": "code",
   "execution_count": 15,
   "id": "938b0299",
   "metadata": {},
   "outputs": [],
   "source": [
    "df_realized = df.loc[:, ['realized_absolute_vol']]"
   ]
  },
  {
   "cell_type": "code",
   "execution_count": 16,
   "id": "721318a8",
   "metadata": {},
   "outputs": [
    {
     "data": {
      "text/html": [
       "<div>\n",
       "<style scoped>\n",
       "    .dataframe tbody tr th:only-of-type {\n",
       "        vertical-align: middle;\n",
       "    }\n",
       "\n",
       "    .dataframe tbody tr th {\n",
       "        vertical-align: top;\n",
       "    }\n",
       "\n",
       "    .dataframe thead th {\n",
       "        text-align: right;\n",
       "    }\n",
       "</style>\n",
       "<table border=\"1\" class=\"dataframe\">\n",
       "  <thead>\n",
       "    <tr style=\"text-align: right;\">\n",
       "      <th></th>\n",
       "      <th>realized_absolute_vol</th>\n",
       "    </tr>\n",
       "    <tr>\n",
       "      <th>datetime</th>\n",
       "      <th></th>\n",
       "    </tr>\n",
       "  </thead>\n",
       "  <tbody>\n",
       "    <tr>\n",
       "      <th>2017-10-01</th>\n",
       "      <td>1.181899</td>\n",
       "    </tr>\n",
       "    <tr>\n",
       "      <th>2017-10-02</th>\n",
       "      <td>0.325778</td>\n",
       "    </tr>\n",
       "    <tr>\n",
       "      <th>2017-10-03</th>\n",
       "      <td>1.722654</td>\n",
       "    </tr>\n",
       "    <tr>\n",
       "      <th>2017-10-04</th>\n",
       "      <td>2.231321</td>\n",
       "    </tr>\n",
       "    <tr>\n",
       "      <th>2017-10-05</th>\n",
       "      <td>1.932917</td>\n",
       "    </tr>\n",
       "    <tr>\n",
       "      <th>...</th>\n",
       "      <td>...</td>\n",
       "    </tr>\n",
       "    <tr>\n",
       "      <th>2023-09-25</th>\n",
       "      <td>0.186681</td>\n",
       "    </tr>\n",
       "    <tr>\n",
       "      <th>2023-09-26</th>\n",
       "      <td>0.338442</td>\n",
       "    </tr>\n",
       "    <tr>\n",
       "      <th>2023-09-27</th>\n",
       "      <td>0.583791</td>\n",
       "    </tr>\n",
       "    <tr>\n",
       "      <th>2023-09-28</th>\n",
       "      <td>2.522666</td>\n",
       "    </tr>\n",
       "    <tr>\n",
       "      <th>2023-09-29</th>\n",
       "      <td>0.425516</td>\n",
       "    </tr>\n",
       "  </tbody>\n",
       "</table>\n",
       "<p>2190 rows × 1 columns</p>\n",
       "</div>"
      ],
      "text/plain": [
       "            realized_absolute_vol\n",
       "datetime                         \n",
       "2017-10-01               1.181899\n",
       "2017-10-02               0.325778\n",
       "2017-10-03               1.722654\n",
       "2017-10-04               2.231321\n",
       "2017-10-05               1.932917\n",
       "...                           ...\n",
       "2023-09-25               0.186681\n",
       "2023-09-26               0.338442\n",
       "2023-09-27               0.583791\n",
       "2023-09-28               2.522666\n",
       "2023-09-29               0.425516\n",
       "\n",
       "[2190 rows x 1 columns]"
      ]
     },
     "execution_count": 16,
     "metadata": {},
     "output_type": "execute_result"
    }
   ],
   "source": [
    "df_realized"
   ]
  },
  {
   "cell_type": "code",
   "execution_count": 17,
   "id": "3e29f482",
   "metadata": {},
   "outputs": [
    {
     "data": {
      "text/plain": [
       "5.381387941456555e-06"
      ]
     },
     "execution_count": 17,
     "metadata": {},
     "output_type": "execute_result"
    }
   ],
   "source": [
    "adf, pvalue, usedlag_, nobs_, critical_values_, icbest_ = adfuller(df_realized)\n",
    "pvalue"
   ]
  },
  {
   "cell_type": "code",
   "execution_count": 18,
   "id": "9b9a9a75",
   "metadata": {},
   "outputs": [
    {
     "data": {
      "text/html": [
       "<div>\n",
       "<style scoped>\n",
       "    .dataframe tbody tr th:only-of-type {\n",
       "        vertical-align: middle;\n",
       "    }\n",
       "\n",
       "    .dataframe tbody tr th {\n",
       "        vertical-align: top;\n",
       "    }\n",
       "\n",
       "    .dataframe thead th {\n",
       "        text-align: right;\n",
       "    }\n",
       "</style>\n",
       "<table border=\"1\" class=\"dataframe\">\n",
       "  <thead>\n",
       "    <tr style=\"text-align: right;\">\n",
       "      <th></th>\n",
       "      <th>realized_absolute_vol</th>\n",
       "    </tr>\n",
       "    <tr>\n",
       "      <th>datetime</th>\n",
       "      <th></th>\n",
       "    </tr>\n",
       "  </thead>\n",
       "  <tbody>\n",
       "    <tr>\n",
       "      <th>2017-10-02</th>\n",
       "      <td>-0.856121</td>\n",
       "    </tr>\n",
       "    <tr>\n",
       "      <th>2017-10-03</th>\n",
       "      <td>1.396876</td>\n",
       "    </tr>\n",
       "    <tr>\n",
       "      <th>2017-10-04</th>\n",
       "      <td>0.508667</td>\n",
       "    </tr>\n",
       "    <tr>\n",
       "      <th>2017-10-05</th>\n",
       "      <td>-0.298404</td>\n",
       "    </tr>\n",
       "    <tr>\n",
       "      <th>2017-10-06</th>\n",
       "      <td>-0.494677</td>\n",
       "    </tr>\n",
       "    <tr>\n",
       "      <th>...</th>\n",
       "      <td>...</td>\n",
       "    </tr>\n",
       "    <tr>\n",
       "      <th>2023-09-25</th>\n",
       "      <td>-1.073523</td>\n",
       "    </tr>\n",
       "    <tr>\n",
       "      <th>2023-09-26</th>\n",
       "      <td>0.151761</td>\n",
       "    </tr>\n",
       "    <tr>\n",
       "      <th>2023-09-27</th>\n",
       "      <td>0.245350</td>\n",
       "    </tr>\n",
       "    <tr>\n",
       "      <th>2023-09-28</th>\n",
       "      <td>1.938875</td>\n",
       "    </tr>\n",
       "    <tr>\n",
       "      <th>2023-09-29</th>\n",
       "      <td>-2.097150</td>\n",
       "    </tr>\n",
       "  </tbody>\n",
       "</table>\n",
       "<p>2189 rows × 1 columns</p>\n",
       "</div>"
      ],
      "text/plain": [
       "            realized_absolute_vol\n",
       "datetime                         \n",
       "2017-10-02              -0.856121\n",
       "2017-10-03               1.396876\n",
       "2017-10-04               0.508667\n",
       "2017-10-05              -0.298404\n",
       "2017-10-06              -0.494677\n",
       "...                           ...\n",
       "2023-09-25              -1.073523\n",
       "2023-09-26               0.151761\n",
       "2023-09-27               0.245350\n",
       "2023-09-28               1.938875\n",
       "2023-09-29              -2.097150\n",
       "\n",
       "[2189 rows x 1 columns]"
      ]
     },
     "execution_count": 18,
     "metadata": {},
     "output_type": "execute_result"
    }
   ],
   "source": [
    "# Make data stationary\n",
    "df_diff_realized = df_realized.diff().dropna()\n",
    "df_diff_realized"
   ]
  },
  {
   "cell_type": "code",
   "execution_count": 19,
   "id": "76a03676",
   "metadata": {},
   "outputs": [
    {
     "data": {
      "text/plain": [
       "<Figure size 1200x600 with 0 Axes>"
      ]
     },
     "metadata": {},
     "output_type": "display_data"
    },
    {
     "data": {
      "image/png": "[encoded data removed]",
      "text/plain": [
       "<Figure size 640x480 with 1 Axes>"
      ]
     },
     "metadata": {},
     "output_type": "display_data"
    },
    {
     "data": {
      "image/png": "[encoded data removed]",
      "text/plain": [
       "<Figure size 640x480 with 1 Axes>"
      ]
     },
     "metadata": {},
     "output_type": "display_data"
    }
   ],
   "source": [
    "# Plot ACF and PACF plots to determine the order of ARIMA (p, d, q)\n",
    "plt.figure(figsize=(12, 6))\n",
    "plot_acf(df_diff_realized, lags=40)\n",
    "plot_pacf(df_diff_realized, lags=40)\n",
    "plt.show()"
   ]
  },
  {
   "cell_type": "code",
   "execution_count": 20,
   "id": "17b05de4",
   "metadata": {},
   "outputs": [
    {
     "name": "stderr",
     "output_type": "stream",
     "text": [
      "/Users/mikhaelhammer-bleich/anaconda3/envs/new-learn2/lib/python3.11/site-packages/sklearn/utils/validation.py:767: FutureWarning: is_sparse is deprecated and will be removed in a future version. Check `isinstance(dtype, pd.SparseDtype)` instead.\n",
      "  if not hasattr(array, \"sparse\") and array.dtypes.apply(is_sparse).any():\n",
      "/Users/mikhaelhammer-bleich/anaconda3/envs/new-learn2/lib/python3.11/site-packages/sklearn/utils/validation.py:605: FutureWarning: is_sparse is deprecated and will be removed in a future version. Check `isinstance(dtype, pd.SparseDtype)` instead.\n",
      "  if is_sparse(pd_dtype):\n",
      "/Users/mikhaelhammer-bleich/anaconda3/envs/new-learn2/lib/python3.11/site-packages/sklearn/utils/validation.py:614: FutureWarning: is_sparse is deprecated and will be removed in a future version. Check `isinstance(dtype, pd.SparseDtype)` instead.\n",
      "  if is_sparse(pd_dtype) or not is_extension_array_dtype(pd_dtype):\n",
      "/Users/mikhaelhammer-bleich/anaconda3/envs/new-learn2/lib/python3.11/site-packages/sklearn/utils/validation.py:605: FutureWarning: is_sparse is deprecated and will be removed in a future version. Check `isinstance(dtype, pd.SparseDtype)` instead.\n",
      "  if is_sparse(pd_dtype):\n",
      "/Users/mikhaelhammer-bleich/anaconda3/envs/new-learn2/lib/python3.11/site-packages/sklearn/utils/validation.py:614: FutureWarning: is_sparse is deprecated and will be removed in a future version. Check `isinstance(dtype, pd.SparseDtype)` instead.\n",
      "  if is_sparse(pd_dtype) or not is_extension_array_dtype(pd_dtype):\n",
      "/Users/mikhaelhammer-bleich/anaconda3/envs/new-learn2/lib/python3.11/site-packages/sklearn/utils/validation.py:605: FutureWarning: is_sparse is deprecated and will be removed in a future version. Check `isinstance(dtype, pd.SparseDtype)` instead.\n",
      "  if is_sparse(pd_dtype):\n",
      "/Users/mikhaelhammer-bleich/anaconda3/envs/new-learn2/lib/python3.11/site-packages/sklearn/utils/validation.py:614: FutureWarning: is_sparse is deprecated and will be removed in a future version. Check `isinstance(dtype, pd.SparseDtype)` instead.\n",
      "  if is_sparse(pd_dtype) or not is_extension_array_dtype(pd_dtype):\n",
      "/Users/mikhaelhammer-bleich/anaconda3/envs/new-learn2/lib/python3.11/site-packages/sklearn/utils/validation.py:605: FutureWarning: is_sparse is deprecated and will be removed in a future version. Check `isinstance(dtype, pd.SparseDtype)` instead.\n",
      "  if is_sparse(pd_dtype):\n",
      "/Users/mikhaelhammer-bleich/anaconda3/envs/new-learn2/lib/python3.11/site-packages/sklearn/utils/validation.py:614: FutureWarning: is_sparse is deprecated and will be removed in a future version. Check `isinstance(dtype, pd.SparseDtype)` instead.\n",
      "  if is_sparse(pd_dtype) or not is_extension_array_dtype(pd_dtype):\n",
      "/Users/mikhaelhammer-bleich/anaconda3/envs/new-learn2/lib/python3.11/site-packages/sklearn/utils/validation.py:605: FutureWarning: is_sparse is deprecated and will be removed in a future version. Check `isinstance(dtype, pd.SparseDtype)` instead.\n",
      "  if is_sparse(pd_dtype):\n",
      "/Users/mikhaelhammer-bleich/anaconda3/envs/new-learn2/lib/python3.11/site-packages/sklearn/utils/validation.py:614: FutureWarning: is_sparse is deprecated and will be removed in a future version. Check `isinstance(dtype, pd.SparseDtype)` instead.\n",
      "  if is_sparse(pd_dtype) or not is_extension_array_dtype(pd_dtype):\n",
      "/Users/mikhaelhammer-bleich/anaconda3/envs/new-learn2/lib/python3.11/site-packages/sklearn/utils/validation.py:605: FutureWarning: is_sparse is deprecated and will be removed in a future version. Check `isinstance(dtype, pd.SparseDtype)` instead.\n",
      "  if is_sparse(pd_dtype):\n",
      "/Users/mikhaelhammer-bleich/anaconda3/envs/new-learn2/lib/python3.11/site-packages/sklearn/utils/validation.py:614: FutureWarning: is_sparse is deprecated and will be removed in a future version. Check `isinstance(dtype, pd.SparseDtype)` instead.\n",
      "  if is_sparse(pd_dtype) or not is_extension_array_dtype(pd_dtype):\n",
      "/Users/mikhaelhammer-bleich/anaconda3/envs/new-learn2/lib/python3.11/site-packages/sklearn/utils/validation.py:605: FutureWarning: is_sparse is deprecated and will be removed in a future version. Check `isinstance(dtype, pd.SparseDtype)` instead.\n",
      "  if is_sparse(pd_dtype):\n",
      "/Users/mikhaelhammer-bleich/anaconda3/envs/new-learn2/lib/python3.11/site-packages/sklearn/utils/validation.py:614: FutureWarning: is_sparse is deprecated and will be removed in a future version. Check `isinstance(dtype, pd.SparseDtype)` instead.\n",
      "  if is_sparse(pd_dtype) or not is_extension_array_dtype(pd_dtype):\n",
      "/Users/mikhaelhammer-bleich/anaconda3/envs/new-learn2/lib/python3.11/site-packages/sklearn/utils/validation.py:605: FutureWarning: is_sparse is deprecated and will be removed in a future version. Check `isinstance(dtype, pd.SparseDtype)` instead.\n",
      "  if is_sparse(pd_dtype):\n",
      "/Users/mikhaelhammer-bleich/anaconda3/envs/new-learn2/lib/python3.11/site-packages/sklearn/utils/validation.py:614: FutureWarning: is_sparse is deprecated and will be removed in a future version. Check `isinstance(dtype, pd.SparseDtype)` instead.\n",
      "  if is_sparse(pd_dtype) or not is_extension_array_dtype(pd_dtype):\n",
      "/Users/mikhaelhammer-bleich/anaconda3/envs/new-learn2/lib/python3.11/site-packages/sklearn/utils/validation.py:605: FutureWarning: is_sparse is deprecated and will be removed in a future version. Check `isinstance(dtype, pd.SparseDtype)` instead.\n",
      "  if is_sparse(pd_dtype):\n",
      "/Users/mikhaelhammer-bleich/anaconda3/envs/new-learn2/lib/python3.11/site-packages/sklearn/utils/validation.py:614: FutureWarning: is_sparse is deprecated and will be removed in a future version. Check `isinstance(dtype, pd.SparseDtype)` instead.\n",
      "  if is_sparse(pd_dtype) or not is_extension_array_dtype(pd_dtype):\n",
      "/Users/mikhaelhammer-bleich/anaconda3/envs/new-learn2/lib/python3.11/site-packages/sklearn/utils/validation.py:605: FutureWarning: is_sparse is deprecated and will be removed in a future version. Check `isinstance(dtype, pd.SparseDtype)` instead.\n",
      "  if is_sparse(pd_dtype):\n",
      "/Users/mikhaelhammer-bleich/anaconda3/envs/new-learn2/lib/python3.11/site-packages/sklearn/utils/validation.py:614: FutureWarning: is_sparse is deprecated and will be removed in a future version. Check `isinstance(dtype, pd.SparseDtype)` instead.\n",
      "  if is_sparse(pd_dtype) or not is_extension_array_dtype(pd_dtype):\n",
      "/Users/mikhaelhammer-bleich/anaconda3/envs/new-learn2/lib/python3.11/site-packages/sklearn/utils/validation.py:605: FutureWarning: is_sparse is deprecated and will be removed in a future version. Check `isinstance(dtype, pd.SparseDtype)` instead.\n",
      "  if is_sparse(pd_dtype):\n",
      "/Users/mikhaelhammer-bleich/anaconda3/envs/new-learn2/lib/python3.11/site-packages/sklearn/utils/validation.py:614: FutureWarning: is_sparse is deprecated and will be removed in a future version. Check `isinstance(dtype, pd.SparseDtype)` instead.\n",
      "  if is_sparse(pd_dtype) or not is_extension_array_dtype(pd_dtype):\n",
      "/Users/mikhaelhammer-bleich/anaconda3/envs/new-learn2/lib/python3.11/site-packages/sklearn/utils/validation.py:605: FutureWarning: is_sparse is deprecated and will be removed in a future version. Check `isinstance(dtype, pd.SparseDtype)` instead.\n",
      "  if is_sparse(pd_dtype):\n",
      "/Users/mikhaelhammer-bleich/anaconda3/envs/new-learn2/lib/python3.11/site-packages/sklearn/utils/validation.py:614: FutureWarning: is_sparse is deprecated and will be removed in a future version. Check `isinstance(dtype, pd.SparseDtype)` instead.\n",
      "  if is_sparse(pd_dtype) or not is_extension_array_dtype(pd_dtype):\n",
      "/Users/mikhaelhammer-bleich/anaconda3/envs/new-learn2/lib/python3.11/site-packages/sklearn/utils/validation.py:605: FutureWarning: is_sparse is deprecated and will be removed in a future version. Check `isinstance(dtype, pd.SparseDtype)` instead.\n",
      "  if is_sparse(pd_dtype):\n",
      "/Users/mikhaelhammer-bleich/anaconda3/envs/new-learn2/lib/python3.11/site-packages/sklearn/utils/validation.py:614: FutureWarning: is_sparse is deprecated and will be removed in a future version. Check `isinstance(dtype, pd.SparseDtype)` instead.\n",
      "  if is_sparse(pd_dtype) or not is_extension_array_dtype(pd_dtype):\n",
      "/Users/mikhaelhammer-bleich/anaconda3/envs/new-learn2/lib/python3.11/site-packages/sklearn/utils/validation.py:605: FutureWarning: is_sparse is deprecated and will be removed in a future version. Check `isinstance(dtype, pd.SparseDtype)` instead.\n",
      "  if is_sparse(pd_dtype):\n",
      "/Users/mikhaelhammer-bleich/anaconda3/envs/new-learn2/lib/python3.11/site-packages/sklearn/utils/validation.py:614: FutureWarning: is_sparse is deprecated and will be removed in a future version. Check `isinstance(dtype, pd.SparseDtype)` instead.\n",
      "  if is_sparse(pd_dtype) or not is_extension_array_dtype(pd_dtype):\n",
      "/Users/mikhaelhammer-bleich/anaconda3/envs/new-learn2/lib/python3.11/site-packages/sklearn/utils/validation.py:605: FutureWarning: is_sparse is deprecated and will be removed in a future version. Check `isinstance(dtype, pd.SparseDtype)` instead.\n",
      "  if is_sparse(pd_dtype):\n",
      "/Users/mikhaelhammer-bleich/anaconda3/envs/new-learn2/lib/python3.11/site-packages/sklearn/utils/validation.py:614: FutureWarning: is_sparse is deprecated and will be removed in a future version. Check `isinstance(dtype, pd.SparseDtype)` instead.\n",
      "  if is_sparse(pd_dtype) or not is_extension_array_dtype(pd_dtype):\n",
      "/Users/mikhaelhammer-bleich/anaconda3/envs/new-learn2/lib/python3.11/site-packages/sklearn/utils/validation.py:605: FutureWarning: is_sparse is deprecated and will be removed in a future version. Check `isinstance(dtype, pd.SparseDtype)` instead.\n",
      "  if is_sparse(pd_dtype):\n",
      "/Users/mikhaelhammer-bleich/anaconda3/envs/new-learn2/lib/python3.11/site-packages/sklearn/utils/validation.py:614: FutureWarning: is_sparse is deprecated and will be removed in a future version. Check `isinstance(dtype, pd.SparseDtype)` instead.\n",
      "  if is_sparse(pd_dtype) or not is_extension_array_dtype(pd_dtype):\n",
      "/Users/mikhaelhammer-bleich/anaconda3/envs/new-learn2/lib/python3.11/site-packages/sklearn/utils/validation.py:605: FutureWarning: is_sparse is deprecated and will be removed in a future version. Check `isinstance(dtype, pd.SparseDtype)` instead.\n",
      "  if is_sparse(pd_dtype):\n",
      "/Users/mikhaelhammer-bleich/anaconda3/envs/new-learn2/lib/python3.11/site-packages/sklearn/utils/validation.py:614: FutureWarning: is_sparse is deprecated and will be removed in a future version. Check `isinstance(dtype, pd.SparseDtype)` instead.\n",
      "  if is_sparse(pd_dtype) or not is_extension_array_dtype(pd_dtype):\n"
     ]
    },
    {
     "name": "stderr",
     "output_type": "stream",
     "text": [
      "/Users/mikhaelhammer-bleich/anaconda3/envs/new-learn2/lib/python3.11/site-packages/sklearn/utils/validation.py:605: FutureWarning: is_sparse is deprecated and will be removed in a future version. Check `isinstance(dtype, pd.SparseDtype)` instead.\n",
      "  if is_sparse(pd_dtype):\n",
      "/Users/mikhaelhammer-bleich/anaconda3/envs/new-learn2/lib/python3.11/site-packages/sklearn/utils/validation.py:614: FutureWarning: is_sparse is deprecated and will be removed in a future version. Check `isinstance(dtype, pd.SparseDtype)` instead.\n",
      "  if is_sparse(pd_dtype) or not is_extension_array_dtype(pd_dtype):\n",
      "/Users/mikhaelhammer-bleich/anaconda3/envs/new-learn2/lib/python3.11/site-packages/sklearn/utils/validation.py:605: FutureWarning: is_sparse is deprecated and will be removed in a future version. Check `isinstance(dtype, pd.SparseDtype)` instead.\n",
      "  if is_sparse(pd_dtype):\n",
      "/Users/mikhaelhammer-bleich/anaconda3/envs/new-learn2/lib/python3.11/site-packages/sklearn/utils/validation.py:614: FutureWarning: is_sparse is deprecated and will be removed in a future version. Check `isinstance(dtype, pd.SparseDtype)` instead.\n",
      "  if is_sparse(pd_dtype) or not is_extension_array_dtype(pd_dtype):\n"
     ]
    }
   ],
   "source": [
    "# Solve for p,d,q in our model\n",
    "arima_model = auto_arima(df_realized, start_p=1, d=1, start_q=1, max_p=5, max_q=5, seasonal=False)"
   ]
  },
  {
   "cell_type": "code",
   "execution_count": 21,
   "id": "48132492",
   "metadata": {},
   "outputs": [
    {
     "data": {
      "text/html": [
       "<style>#sk-container-id-1 {color: black;background-color: white;}#sk-container-id-1 pre{padding: 0;}#sk-container-id-1 div.sk-toggleable {background-color: white;}#sk-container-id-1 label.sk-toggleable__label {cursor: pointer;display: block;width: 100%;margin-bottom: 0;padding: 0.3em;box-sizing: border-box;text-align: center;}#sk-container-id-1 label.sk-toggleable__label-arrow:before {content: \"▸\";float: left;margin-right: 0.25em;color: #696969;}#sk-container-id-1 label.sk-toggleable__label-arrow:hover:before {color: black;}#sk-container-id-1 div.sk-estimator:hover label.sk-toggleable__label-arrow:before {color: black;}#sk-container-id-1 div.sk-toggleable__content {max-height: 0;max-width: 0;overflow: hidden;text-align: left;background-color: #f0f8ff;}#sk-container-id-1 div.sk-toggleable__content pre {margin: 0.2em;color: black;border-radius: 0.25em;background-color: #f0f8ff;}#sk-container-id-1 input.sk-toggleable__control:checked~div.sk-toggleable__content {max-height: 200px;max-width: 100%;overflow: auto;}#sk-container-id-1 input.sk-toggleable__control:checked~label.sk-toggleable__label-arrow:before {content: \"▾\";}#sk-container-id-1 div.sk-estimator input.sk-toggleable__control:checked~label.sk-toggleable__label {background-color: #d4ebff;}#sk-container-id-1 div.sk-label input.sk-toggleable__control:checked~label.sk-toggleable__label {background-color: #d4ebff;}#sk-container-id-1 input.sk-hidden--visually {border: 0;clip: rect(1px 1px 1px 1px);clip: rect(1px, 1px, 1px, 1px);height: 1px;margin: -1px;overflow: hidden;padding: 0;position: absolute;width: 1px;}#sk-container-id-1 div.sk-estimator {font-family: monospace;background-color: #f0f8ff;border: 1px dotted black;border-radius: 0.25em;box-sizing: border-box;margin-bottom: 0.5em;}#sk-container-id-1 div.sk-estimator:hover {background-color: #d4ebff;}#sk-container-id-1 div.sk-parallel-item::after {content: \"\";width: 100%;border-bottom: 1px solid gray;flex-grow: 1;}#sk-container-id-1 div.sk-label:hover label.sk-toggleable__label {background-color: #d4ebff;}#sk-container-id-1 div.sk-serial::before {content: \"\";position: absolute;border-left: 1px solid gray;box-sizing: border-box;top: 0;bottom: 0;left: 50%;z-index: 0;}#sk-container-id-1 div.sk-serial {display: flex;flex-direction: column;align-items: center;background-color: white;padding-right: 0.2em;padding-left: 0.2em;position: relative;}#sk-container-id-1 div.sk-item {position: relative;z-index: 1;}#sk-container-id-1 div.sk-parallel {display: flex;align-items: stretch;justify-content: center;background-color: white;position: relative;}#sk-container-id-1 div.sk-item::before, #sk-container-id-1 div.sk-parallel-item::before {content: \"\";position: absolute;border-left: 1px solid gray;box-sizing: border-box;top: 0;bottom: 0;left: 50%;z-index: -1;}#sk-container-id-1 div.sk-parallel-item {display: flex;flex-direction: column;z-index: 1;position: relative;background-color: white;}#sk-container-id-1 div.sk-parallel-item:first-child::after {align-self: flex-end;width: 50%;}#sk-container-id-1 div.sk-parallel-item:last-child::after {align-self: flex-start;width: 50%;}#sk-container-id-1 div.sk-parallel-item:only-child::after {width: 0;}#sk-container-id-1 div.sk-dashed-wrapped {border: 1px dashed gray;margin: 0 0.4em 0.5em 0.4em;box-sizing: border-box;padding-bottom: 0.4em;background-color: white;}#sk-container-id-1 div.sk-label label {font-family: monospace;font-weight: bold;display: inline-block;line-height: 1.2em;}#sk-container-id-1 div.sk-label-container {text-align: center;}#sk-container-id-1 div.sk-container {/* jupyter's `normalize.less` sets `[hidden] { display: none; }` but bootstrap.min.css set `[hidden] { display: none !important; }` so we also need the `!important` here to be able to override the default hidden behavior on the sphinx rendered scikit-learn.org. See: https://github.com/scikit-learn/scikit-learn/issues/21755 */display: inline-block !important;position: relative;}#sk-container-id-1 div.sk-text-repr-fallback {display: none;}</style><div id=\"sk-container-id-1\" class=\"sk-top-container\"><div class=\"sk-text-repr-fallback\"><pre> ARIMA(0,1,2)(0,0,0)[0]          </pre><b>In a Jupyter environment, please rerun this cell to show the HTML representation or trust the notebook. <br />On GitHub, the HTML representation is unable to render, please try loading this page with nbviewer.org.</b></div><div class=\"sk-container\" hidden><div class=\"sk-item\"><div class=\"sk-estimator sk-toggleable\"><input class=\"sk-toggleable__control sk-hidden--visually\" id=\"sk-estimator-id-1\" type=\"checkbox\" checked><label for=\"sk-estimator-id-1\" class=\"sk-toggleable__label sk-toggleable__label-arrow\">ARIMA</label><div class=\"sk-toggleable__content\"><pre> ARIMA(0,1,2)(0,0,0)[0]          </pre></div></div></div></div></div>"
      ],
      "text/plain": [
       "ARIMA(order=(0, 1, 2), scoring_args={}, suppress_warnings=True,\n",
       "      with_intercept=False)"
      ]
     },
     "execution_count": 21,
     "metadata": {},
     "output_type": "execute_result"
    }
   ],
   "source": [
    "arima_model"
   ]
  },
  {
   "cell_type": "code",
   "execution_count": 22,
   "id": "14e24c71",
   "metadata": {},
   "outputs": [
    {
     "name": "stderr",
     "output_type": "stream",
     "text": [
      "/Users/mikhaelhammer-bleich/anaconda3/envs/new-learn2/lib/python3.11/site-packages/statsmodels/tsa/base/tsa_model.py:473: ValueWarning: No frequency information was provided, so inferred frequency D will be used.\n",
      "  self._init_dates(dates, freq)\n",
      "/Users/mikhaelhammer-bleich/anaconda3/envs/new-learn2/lib/python3.11/site-packages/statsmodels/tsa/base/tsa_model.py:473: ValueWarning: No frequency information was provided, so inferred frequency D will be used.\n",
      "  self._init_dates(dates, freq)\n",
      "/Users/mikhaelhammer-bleich/anaconda3/envs/new-learn2/lib/python3.11/site-packages/statsmodels/tsa/base/tsa_model.py:473: ValueWarning: No frequency information was provided, so inferred frequency D will be used.\n",
      "  self._init_dates(dates, freq)\n"
     ]
    }
   ],
   "source": [
    "p, d, q = (0, 1, 2)\n",
    "model = ARIMA(df_realized, order=(p, d, q))\n",
    "model_fit = model.fit()"
   ]
  },
  {
   "cell_type": "code",
   "execution_count": 23,
   "id": "3dc123b4",
   "metadata": {},
   "outputs": [
    {
     "name": "stdout",
     "output_type": "stream",
     "text": [
      "ARIMA Forecasts:\n",
      " 2023-09-30    0.933995\n",
      "2023-10-01    0.962109\n",
      "2023-10-02    0.962109\n",
      "2023-10-03    0.962109\n",
      "2023-10-04    0.962109\n",
      "2023-10-05    0.962109\n",
      "2023-10-06    0.962109\n",
      "2023-10-07    0.962109\n",
      "2023-10-08    0.962109\n",
      "2023-10-09    0.962109\n",
      "Freq: D, Name: predicted_mean, dtype: float64\n"
     ]
    }
   ],
   "source": [
    "# Make forecast using ARIMA\n",
    "forecast_period = 10  # Can be changed for more or less periods\n",
    "forecast = model_fit.forecast(steps=forecast_period)\n",
    "\n",
    "# Print the forecasts\n",
    "print(\"ARIMA Forecasts:\\n\", forecast)"
   ]
  },
  {
   "cell_type": "markdown",
   "id": "34c3ac22",
   "metadata": {},
   "source": [
    "# Feed Forward NN"
   ]
  },
  {
   "cell_type": "code",
   "execution_count": 24,
   "id": "6f8aad97",
   "metadata": {},
   "outputs": [
    {
     "data": {
      "text/plain": [
       "array([[1.1818987 ],\n",
       "       [0.32577756],\n",
       "       [1.7226539 ],\n",
       "       ...,\n",
       "       [0.5837912 ],\n",
       "       [2.522666  ],\n",
       "       [0.42551616]], dtype=float32)"
      ]
     },
     "execution_count": 24,
     "metadata": {},
     "output_type": "execute_result"
    }
   ],
   "source": [
    "#Convert pandas dataframe to numpy array\n",
    "dataset = df_realized.values\n",
    "dataset = dataset.astype('float32') #Convert values to float\n",
    "dataset"
   ]
  },
  {
   "cell_type": "code",
   "execution_count": 25,
   "id": "715f8585",
   "metadata": {},
   "outputs": [],
   "source": [
    "# normalize the dataset\n",
    "scaler = MinMaxScaler(feature_range=(0, 1))\n",
    "dataset = scaler.fit_transform(dataset)"
   ]
  },
  {
   "cell_type": "code",
   "execution_count": 26,
   "id": "0f03f278",
   "metadata": {},
   "outputs": [
    {
     "data": {
      "text/plain": [
       "array([[0.0303206 ],\n",
       "       [0.00835754],\n",
       "       [0.04419321],\n",
       "       ...,\n",
       "       [0.01497666],\n",
       "       [0.06471684],\n",
       "       [0.01091625]], dtype=float32)"
      ]
     },
     "execution_count": 26,
     "metadata": {},
     "output_type": "execute_result"
    }
   ],
   "source": [
    "dataset"
   ]
  },
  {
   "cell_type": "code",
   "execution_count": 99,
   "id": "12ffb8b8",
   "metadata": {},
   "outputs": [],
   "source": [
    "# Take first 66% values for train and the remaining 1/3 for testing split into train and test sets\n",
    "train_size = int(len(dataset) * 0.66)\n",
    "test_size = len(dataset) - train_size\n",
    "train, test = dataset[0:train_size,:], dataset[train_size:len(dataset),:]"
   ]
  },
  {
   "cell_type": "code",
   "execution_count": 100,
   "id": "640a7193",
   "metadata": {},
   "outputs": [],
   "source": [
    "def to_sequences(dataset, seq_size=1):\n",
    "    x = []\n",
    "    y = []\n",
    "\n",
    "    for i in range(len(dataset)-seq_size-1):\n",
    "        #print(i)\n",
    "        window = dataset[i:(i+seq_size), 0]\n",
    "        x.append(window)\n",
    "        y.append(dataset[i+seq_size, 0])\n",
    "        \n",
    "    return np.array(x),np.array(y)\n",
    "    \n",
    "\n",
    "seq_size = 10 # Number of time steps to look back \n",
    "#Larger sequences (look further back) may improve forecasting.\n",
    "trainX, trainY = to_sequences(train, seq_size)\n",
    "testX, testY = to_sequences(test, seq_size)"
   ]
  },
  {
   "cell_type": "code",
   "execution_count": 101,
   "id": "f7e11353",
   "metadata": {},
   "outputs": [
    {
     "name": "stdout",
     "output_type": "stream",
     "text": [
      "Shape of training set: (1434, 10)\n",
      "Shape of test set: (734, 10)\n",
      "Build deep model...\n",
      "Model: \"sequential_4\"\n",
      "_________________________________________________________________\n",
      " Layer (type)                Output Shape              Param #   \n",
      "=================================================================\n",
      " dense_7 (Dense)             (None, 64)                704       \n",
      "                                                                 \n",
      " dense_8 (Dense)             (None, 32)                2080      \n",
      "                                                                 \n",
      " dense_9 (Dense)             (None, 1)                 33        \n",
      "                                                                 \n",
      "=================================================================\n",
      "Total params: 2,817\n",
      "Trainable params: 2,817\n",
      "Non-trainable params: 0\n",
      "_________________________________________________________________\n",
      "None\n"
     ]
    }
   ],
   "source": [
    "#Compare trainX and dataset. You can see that X= values at t, t+1 and t+2\n",
    "#whereas Y is the value that follows, t+3 (since our sequence size is 3)\n",
    "\n",
    "print(\"Shape of training set: {}\".format(trainX.shape))\n",
    "print(\"Shape of test set: {}\".format(testX.shape))\n",
    "\n",
    "#Input dimensions are... (N x seq_size)\n",
    "print('Build deep model...')\n",
    "# create and fit dense model\n",
    "model = Sequential()\n",
    "model.add(Dense(64, input_dim=seq_size, activation='relu')) #12\n",
    "model.add(Dense(32, activation='relu'))  #8\n",
    "model.add(Dense(1))\n",
    "model.compile(loss='mean_squared_error', optimizer='adam', metrics = ['acc'])\n",
    "print(model.summary()) "
   ]
  },
  {
   "cell_type": "code",
   "execution_count": 102,
   "id": "e8a5a12a",
   "metadata": {},
   "outputs": [
    {
     "name": "stdout",
     "output_type": "stream",
     "text": [
      "Epoch 1/100\n",
      "45/45 - 0s - loss: 0.0064 - acc: 0.0000e+00 - val_loss: 0.0031 - val_acc: 0.0014 - 251ms/epoch - 6ms/step\n",
      "Epoch 2/100\n",
      "45/45 - 0s - loss: 0.0061 - acc: 0.0000e+00 - val_loss: 0.0031 - val_acc: 0.0014 - 26ms/epoch - 571us/step\n",
      "Epoch 3/100\n",
      "45/45 - 0s - loss: 0.0060 - acc: 0.0000e+00 - val_loss: 0.0031 - val_acc: 0.0014 - 26ms/epoch - 582us/step\n",
      "Epoch 4/100\n",
      "45/45 - 0s - loss: 0.0059 - acc: 0.0000e+00 - val_loss: 0.0032 - val_acc: 0.0014 - 26ms/epoch - 570us/step\n",
      "Epoch 5/100\n",
      "45/45 - 0s - loss: 0.0058 - acc: 0.0000e+00 - val_loss: 0.0034 - val_acc: 0.0014 - 25ms/epoch - 547us/step\n",
      "Epoch 6/100\n",
      "45/45 - 0s - loss: 0.0058 - acc: 0.0000e+00 - val_loss: 0.0035 - val_acc: 0.0014 - 26ms/epoch - 576us/step\n",
      "Epoch 7/100\n",
      "45/45 - 0s - loss: 0.0057 - acc: 0.0000e+00 - val_loss: 0.0032 - val_acc: 0.0014 - 26ms/epoch - 577us/step\n",
      "Epoch 8/100\n",
      "45/45 - 0s - loss: 0.0057 - acc: 0.0000e+00 - val_loss: 0.0034 - val_acc: 0.0014 - 25ms/epoch - 561us/step\n",
      "Epoch 9/100\n",
      "45/45 - 0s - loss: 0.0057 - acc: 0.0000e+00 - val_loss: 0.0032 - val_acc: 0.0014 - 26ms/epoch - 583us/step\n",
      "Epoch 10/100\n",
      "45/45 - 0s - loss: 0.0056 - acc: 0.0000e+00 - val_loss: 0.0033 - val_acc: 0.0014 - 25ms/epoch - 554us/step\n",
      "Epoch 11/100\n",
      "45/45 - 0s - loss: 0.0056 - acc: 0.0000e+00 - val_loss: 0.0034 - val_acc: 0.0014 - 27ms/epoch - 597us/step\n",
      "Epoch 12/100\n",
      "45/45 - 0s - loss: 0.0055 - acc: 0.0000e+00 - val_loss: 0.0033 - val_acc: 0.0014 - 25ms/epoch - 560us/step\n",
      "Epoch 13/100\n",
      "45/45 - 0s - loss: 0.0055 - acc: 0.0000e+00 - val_loss: 0.0035 - val_acc: 0.0014 - 25ms/epoch - 564us/step\n",
      "Epoch 14/100\n",
      "45/45 - 0s - loss: 0.0056 - acc: 0.0000e+00 - val_loss: 0.0034 - val_acc: 0.0014 - 26ms/epoch - 568us/step\n",
      "Epoch 15/100\n",
      "45/45 - 0s - loss: 0.0055 - acc: 0.0000e+00 - val_loss: 0.0036 - val_acc: 0.0014 - 25ms/epoch - 554us/step\n",
      "Epoch 16/100\n",
      "45/45 - 0s - loss: 0.0055 - acc: 0.0000e+00 - val_loss: 0.0035 - val_acc: 0.0014 - 26ms/epoch - 579us/step\n",
      "Epoch 17/100\n",
      "45/45 - 0s - loss: 0.0054 - acc: 0.0000e+00 - val_loss: 0.0032 - val_acc: 0.0014 - 26ms/epoch - 573us/step\n",
      "Epoch 18/100\n",
      "45/45 - 0s - loss: 0.0054 - acc: 0.0000e+00 - val_loss: 0.0033 - val_acc: 0.0014 - 26ms/epoch - 567us/step\n",
      "Epoch 19/100\n",
      "45/45 - 0s - loss: 0.0054 - acc: 0.0000e+00 - val_loss: 0.0033 - val_acc: 0.0014 - 26ms/epoch - 584us/step\n",
      "Epoch 20/100\n",
      "45/45 - 0s - loss: 0.0053 - acc: 0.0000e+00 - val_loss: 0.0034 - val_acc: 0.0014 - 25ms/epoch - 545us/step\n",
      "Epoch 21/100\n",
      "45/45 - 0s - loss: 0.0053 - acc: 0.0000e+00 - val_loss: 0.0033 - val_acc: 0.0014 - 25ms/epoch - 566us/step\n",
      "Epoch 22/100\n",
      "45/45 - 0s - loss: 0.0052 - acc: 0.0000e+00 - val_loss: 0.0034 - val_acc: 0.0014 - 26ms/epoch - 570us/step\n",
      "Epoch 23/100\n",
      "45/45 - 0s - loss: 0.0052 - acc: 0.0000e+00 - val_loss: 0.0033 - val_acc: 0.0014 - 99ms/epoch - 2ms/step\n",
      "Epoch 24/100\n",
      "45/45 - 0s - loss: 0.0051 - acc: 0.0000e+00 - val_loss: 0.0035 - val_acc: 0.0014 - 82ms/epoch - 2ms/step\n",
      "Epoch 25/100\n",
      "45/45 - 0s - loss: 0.0051 - acc: 0.0000e+00 - val_loss: 0.0033 - val_acc: 0.0014 - 163ms/epoch - 4ms/step\n",
      "Epoch 26/100\n",
      "45/45 - 0s - loss: 0.0051 - acc: 0.0000e+00 - val_loss: 0.0034 - val_acc: 0.0014 - 105ms/epoch - 2ms/step\n",
      "Epoch 27/100\n",
      "45/45 - 0s - loss: 0.0051 - acc: 0.0000e+00 - val_loss: 0.0035 - val_acc: 0.0014 - 127ms/epoch - 3ms/step\n",
      "Epoch 28/100\n",
      "45/45 - 0s - loss: 0.0051 - acc: 0.0000e+00 - val_loss: 0.0034 - val_acc: 0.0014 - 122ms/epoch - 3ms/step\n",
      "Epoch 29/100\n",
      "45/45 - 0s - loss: 0.0050 - acc: 0.0000e+00 - val_loss: 0.0037 - val_acc: 0.0014 - 85ms/epoch - 2ms/step\n",
      "Epoch 30/100\n",
      "45/45 - 0s - loss: 0.0049 - acc: 0.0000e+00 - val_loss: 0.0036 - val_acc: 0.0014 - 115ms/epoch - 3ms/step\n",
      "Epoch 31/100\n",
      "45/45 - 0s - loss: 0.0050 - acc: 0.0000e+00 - val_loss: 0.0035 - val_acc: 0.0014 - 117ms/epoch - 3ms/step\n",
      "Epoch 32/100\n",
      "45/45 - 0s - loss: 0.0049 - acc: 0.0000e+00 - val_loss: 0.0037 - val_acc: 0.0014 - 131ms/epoch - 3ms/step\n",
      "Epoch 33/100\n",
      "45/45 - 0s - loss: 0.0049 - acc: 0.0000e+00 - val_loss: 0.0037 - val_acc: 0.0014 - 85ms/epoch - 2ms/step\n",
      "Epoch 34/100\n",
      "45/45 - 0s - loss: 0.0050 - acc: 0.0000e+00 - val_loss: 0.0037 - val_acc: 0.0014 - 113ms/epoch - 3ms/step\n",
      "Epoch 35/100\n",
      "45/45 - 0s - loss: 0.0049 - acc: 0.0000e+00 - val_loss: 0.0035 - val_acc: 0.0014 - 117ms/epoch - 3ms/step\n",
      "Epoch 36/100\n",
      "45/45 - 0s - loss: 0.0048 - acc: 0.0000e+00 - val_loss: 0.0035 - val_acc: 0.0014 - 96ms/epoch - 2ms/step\n",
      "Epoch 37/100\n",
      "45/45 - 0s - loss: 0.0048 - acc: 0.0000e+00 - val_loss: 0.0035 - val_acc: 0.0014 - 110ms/epoch - 2ms/step\n",
      "Epoch 38/100\n",
      "45/45 - 0s - loss: 0.0047 - acc: 0.0000e+00 - val_loss: 0.0035 - val_acc: 0.0014 - 101ms/epoch - 2ms/step\n",
      "Epoch 39/100\n",
      "45/45 - 0s - loss: 0.0047 - acc: 0.0000e+00 - val_loss: 0.0036 - val_acc: 0.0014 - 116ms/epoch - 3ms/step\n",
      "Epoch 40/100\n",
      "45/45 - 0s - loss: 0.0048 - acc: 0.0000e+00 - val_loss: 0.0036 - val_acc: 0.0014 - 104ms/epoch - 2ms/step\n",
      "Epoch 41/100\n",
      "45/45 - 0s - loss: 0.0048 - acc: 0.0000e+00 - val_loss: 0.0035 - val_acc: 0.0014 - 117ms/epoch - 3ms/step\n",
      "Epoch 42/100\n",
      "45/45 - 0s - loss: 0.0048 - acc: 0.0000e+00 - val_loss: 0.0036 - val_acc: 0.0014 - 97ms/epoch - 2ms/step\n",
      "Epoch 43/100\n",
      "45/45 - 0s - loss: 0.0045 - acc: 0.0000e+00 - val_loss: 0.0038 - val_acc: 0.0014 - 84ms/epoch - 2ms/step\n",
      "Epoch 44/100\n",
      "45/45 - 0s - loss: 0.0045 - acc: 0.0000e+00 - val_loss: 0.0038 - val_acc: 0.0014 - 84ms/epoch - 2ms/step\n",
      "Epoch 45/100\n",
      "45/45 - 0s - loss: 0.0046 - acc: 0.0000e+00 - val_loss: 0.0037 - val_acc: 0.0014 - 138ms/epoch - 3ms/step\n",
      "Epoch 46/100\n",
      "45/45 - 0s - loss: 0.0045 - acc: 0.0000e+00 - val_loss: 0.0038 - val_acc: 0.0014 - 137ms/epoch - 3ms/step\n",
      "Epoch 47/100\n",
      "45/45 - 0s - loss: 0.0045 - acc: 0.0000e+00 - val_loss: 0.0037 - val_acc: 0.0014 - 88ms/epoch - 2ms/step\n",
      "Epoch 48/100\n",
      "45/45 - 0s - loss: 0.0044 - acc: 0.0000e+00 - val_loss: 0.0037 - val_acc: 0.0014 - 61ms/epoch - 1ms/step\n",
      "Epoch 49/100\n",
      "45/45 - 0s - loss: 0.0044 - acc: 0.0000e+00 - val_loss: 0.0036 - val_acc: 0.0014 - 36ms/epoch - 810us/step\n",
      "Epoch 50/100\n",
      "45/45 - 0s - loss: 0.0043 - acc: 0.0000e+00 - val_loss: 0.0037 - val_acc: 0.0014 - 37ms/epoch - 819us/step\n",
      "Epoch 51/100\n",
      "45/45 - 0s - loss: 0.0043 - acc: 0.0000e+00 - val_loss: 0.0037 - val_acc: 0.0014 - 31ms/epoch - 697us/step\n",
      "Epoch 52/100\n",
      "45/45 - 0s - loss: 0.0045 - acc: 0.0000e+00 - val_loss: 0.0038 - val_acc: 0.0014 - 26ms/epoch - 573us/step\n",
      "Epoch 53/100\n",
      "45/45 - 0s - loss: 0.0045 - acc: 0.0000e+00 - val_loss: 0.0038 - val_acc: 0.0014 - 26ms/epoch - 583us/step\n",
      "Epoch 54/100\n",
      "45/45 - 0s - loss: 0.0042 - acc: 0.0000e+00 - val_loss: 0.0038 - val_acc: 0.0014 - 35ms/epoch - 780us/step\n",
      "Epoch 55/100\n",
      "45/45 - 0s - loss: 0.0042 - acc: 0.0000e+00 - val_loss: 0.0038 - val_acc: 0.0014 - 26ms/epoch - 569us/step\n",
      "Epoch 56/100\n",
      "45/45 - 0s - loss: 0.0042 - acc: 0.0000e+00 - val_loss: 0.0040 - val_acc: 0.0014 - 25ms/epoch - 546us/step\n",
      "Epoch 57/100\n",
      "45/45 - 0s - loss: 0.0042 - acc: 0.0000e+00 - val_loss: 0.0040 - val_acc: 0.0014 - 25ms/epoch - 548us/step\n",
      "Epoch 58/100\n",
      "45/45 - 0s - loss: 0.0041 - acc: 0.0000e+00 - val_loss: 0.0041 - val_acc: 0.0014 - 24ms/epoch - 544us/step\n",
      "Epoch 59/100\n",
      "45/45 - 0s - loss: 0.0040 - acc: 0.0000e+00 - val_loss: 0.0040 - val_acc: 0.0014 - 23ms/epoch - 522us/step\n",
      "Epoch 60/100\n",
      "45/45 - 0s - loss: 0.0040 - acc: 0.0000e+00 - val_loss: 0.0038 - val_acc: 0.0014 - 24ms/epoch - 534us/step\n",
      "Epoch 61/100\n",
      "45/45 - 0s - loss: 0.0040 - acc: 0.0000e+00 - val_loss: 0.0039 - val_acc: 0.0014 - 26ms/epoch - 583us/step\n",
      "Epoch 62/100\n",
      "45/45 - 0s - loss: 0.0040 - acc: 0.0000e+00 - val_loss: 0.0038 - val_acc: 0.0014 - 25ms/epoch - 545us/step\n",
      "Epoch 63/100\n",
      "45/45 - 0s - loss: 0.0040 - acc: 0.0000e+00 - val_loss: 0.0039 - val_acc: 0.0014 - 26ms/epoch - 580us/step\n",
      "Epoch 64/100\n",
      "45/45 - 0s - loss: 0.0039 - acc: 0.0000e+00 - val_loss: 0.0039 - val_acc: 0.0014 - 24ms/epoch - 537us/step\n",
      "Epoch 65/100\n",
      "45/45 - 0s - loss: 0.0039 - acc: 0.0000e+00 - val_loss: 0.0039 - val_acc: 0.0014 - 24ms/epoch - 534us/step\n",
      "Epoch 66/100\n",
      "45/45 - 0s - loss: 0.0039 - acc: 0.0000e+00 - val_loss: 0.0045 - val_acc: 0.0014 - 25ms/epoch - 550us/step\n",
      "Epoch 67/100\n",
      "45/45 - 0s - loss: 0.0038 - acc: 0.0000e+00 - val_loss: 0.0041 - val_acc: 0.0014 - 25ms/epoch - 547us/step\n",
      "Epoch 68/100\n",
      "45/45 - 0s - loss: 0.0038 - acc: 0.0000e+00 - val_loss: 0.0040 - val_acc: 0.0014 - 29ms/epoch - 655us/step\n",
      "Epoch 69/100\n",
      "45/45 - 0s - loss: 0.0038 - acc: 0.0000e+00 - val_loss: 0.0040 - val_acc: 0.0014 - 26ms/epoch - 586us/step\n"
     ]
    },
    {
     "name": "stdout",
     "output_type": "stream",
     "text": [
      "Epoch 70/100\n",
      "45/45 - 0s - loss: 0.0038 - acc: 0.0000e+00 - val_loss: 0.0040 - val_acc: 0.0014 - 24ms/epoch - 537us/step\n",
      "Epoch 71/100\n",
      "45/45 - 0s - loss: 0.0037 - acc: 0.0000e+00 - val_loss: 0.0042 - val_acc: 0.0014 - 25ms/epoch - 547us/step\n",
      "Epoch 72/100\n",
      "45/45 - 0s - loss: 0.0037 - acc: 0.0000e+00 - val_loss: 0.0041 - val_acc: 0.0014 - 23ms/epoch - 512us/step\n",
      "Epoch 73/100\n",
      "45/45 - 0s - loss: 0.0037 - acc: 0.0000e+00 - val_loss: 0.0040 - val_acc: 0.0014 - 27ms/epoch - 594us/step\n",
      "Epoch 74/100\n",
      "45/45 - 0s - loss: 0.0036 - acc: 0.0000e+00 - val_loss: 0.0042 - val_acc: 0.0014 - 25ms/epoch - 548us/step\n",
      "Epoch 75/100\n",
      "45/45 - 0s - loss: 0.0036 - acc: 0.0000e+00 - val_loss: 0.0043 - val_acc: 0.0014 - 24ms/epoch - 537us/step\n",
      "Epoch 76/100\n",
      "45/45 - 0s - loss: 0.0037 - acc: 0.0000e+00 - val_loss: 0.0043 - val_acc: 0.0014 - 23ms/epoch - 520us/step\n",
      "Epoch 77/100\n",
      "45/45 - 0s - loss: 0.0038 - acc: 0.0000e+00 - val_loss: 0.0041 - val_acc: 0.0014 - 24ms/epoch - 532us/step\n",
      "Epoch 78/100\n",
      "45/45 - 0s - loss: 0.0036 - acc: 0.0000e+00 - val_loss: 0.0041 - val_acc: 0.0014 - 23ms/epoch - 514us/step\n",
      "Epoch 79/100\n",
      "45/45 - 0s - loss: 0.0036 - acc: 0.0000e+00 - val_loss: 0.0042 - val_acc: 0.0014 - 23ms/epoch - 517us/step\n",
      "Epoch 80/100\n",
      "45/45 - 0s - loss: 0.0035 - acc: 0.0000e+00 - val_loss: 0.0043 - val_acc: 0.0014 - 23ms/epoch - 521us/step\n",
      "Epoch 81/100\n",
      "45/45 - 0s - loss: 0.0035 - acc: 0.0000e+00 - val_loss: 0.0041 - val_acc: 0.0014 - 24ms/epoch - 536us/step\n",
      "Epoch 82/100\n",
      "45/45 - 0s - loss: 0.0034 - acc: 0.0000e+00 - val_loss: 0.0042 - val_acc: 0.0014 - 24ms/epoch - 533us/step\n",
      "Epoch 83/100\n",
      "45/45 - 0s - loss: 0.0034 - acc: 0.0000e+00 - val_loss: 0.0042 - val_acc: 0.0014 - 30ms/epoch - 660us/step\n",
      "Epoch 84/100\n",
      "45/45 - 0s - loss: 0.0034 - acc: 0.0000e+00 - val_loss: 0.0042 - val_acc: 0.0014 - 25ms/epoch - 563us/step\n",
      "Epoch 85/100\n",
      "45/45 - 0s - loss: 0.0033 - acc: 0.0000e+00 - val_loss: 0.0044 - val_acc: 0.0014 - 25ms/epoch - 546us/step\n",
      "Epoch 86/100\n",
      "45/45 - 0s - loss: 0.0034 - acc: 0.0000e+00 - val_loss: 0.0044 - val_acc: 0.0014 - 24ms/epoch - 544us/step\n",
      "Epoch 87/100\n",
      "45/45 - 0s - loss: 0.0033 - acc: 0.0000e+00 - val_loss: 0.0042 - val_acc: 0.0014 - 24ms/epoch - 531us/step\n",
      "Epoch 88/100\n",
      "45/45 - 0s - loss: 0.0033 - acc: 0.0000e+00 - val_loss: 0.0043 - val_acc: 0.0014 - 26ms/epoch - 585us/step\n",
      "Epoch 89/100\n",
      "45/45 - 0s - loss: 0.0033 - acc: 0.0000e+00 - val_loss: 0.0041 - val_acc: 0.0014 - 24ms/epoch - 537us/step\n",
      "Epoch 90/100\n",
      "45/45 - 0s - loss: 0.0032 - acc: 0.0000e+00 - val_loss: 0.0043 - val_acc: 0.0014 - 27ms/epoch - 593us/step\n",
      "Epoch 91/100\n",
      "45/45 - 0s - loss: 0.0033 - acc: 0.0000e+00 - val_loss: 0.0043 - val_acc: 0.0014 - 26ms/epoch - 570us/step\n",
      "Epoch 92/100\n",
      "45/45 - 0s - loss: 0.0032 - acc: 0.0000e+00 - val_loss: 0.0045 - val_acc: 0.0014 - 24ms/epoch - 542us/step\n",
      "Epoch 93/100\n",
      "45/45 - 0s - loss: 0.0032 - acc: 0.0000e+00 - val_loss: 0.0043 - val_acc: 0.0014 - 24ms/epoch - 542us/step\n",
      "Epoch 94/100\n",
      "45/45 - 0s - loss: 0.0031 - acc: 0.0000e+00 - val_loss: 0.0044 - val_acc: 0.0014 - 24ms/epoch - 539us/step\n",
      "Epoch 95/100\n",
      "45/45 - 0s - loss: 0.0031 - acc: 0.0000e+00 - val_loss: 0.0043 - val_acc: 0.0014 - 23ms/epoch - 519us/step\n",
      "Epoch 96/100\n",
      "45/45 - 0s - loss: 0.0031 - acc: 0.0000e+00 - val_loss: 0.0047 - val_acc: 0.0014 - 24ms/epoch - 539us/step\n",
      "Epoch 97/100\n",
      "45/45 - 0s - loss: 0.0031 - acc: 0.0000e+00 - val_loss: 0.0043 - val_acc: 0.0014 - 23ms/epoch - 519us/step\n",
      "Epoch 98/100\n",
      "45/45 - 0s - loss: 0.0031 - acc: 0.0000e+00 - val_loss: 0.0043 - val_acc: 0.0014 - 25ms/epoch - 550us/step\n",
      "Epoch 99/100\n",
      "45/45 - 0s - loss: 0.0030 - acc: 6.9735e-04 - val_loss: 0.0044 - val_acc: 0.0014 - 24ms/epoch - 534us/step\n",
      "Epoch 100/100\n",
      "45/45 - 0s - loss: 0.0030 - acc: 0.0000e+00 - val_loss: 0.0046 - val_acc: 0.0014 - 27ms/epoch - 592us/step\n"
     ]
    },
    {
     "data": {
      "text/plain": [
       "<keras.callbacks.History at 0x29190a710>"
      ]
     },
     "execution_count": 102,
     "metadata": {},
     "output_type": "execute_result"
    }
   ],
   "source": [
    "model.fit(trainX, trainY, validation_data=(testX, testY),\n",
    "          verbose=2, epochs=100)"
   ]
  },
  {
   "cell_type": "code",
   "execution_count": 103,
   "id": "4a5b9388",
   "metadata": {},
   "outputs": [
    {
     "name": "stdout",
     "output_type": "stream",
     "text": [
      "45/45 [==============================] - 0s 252us/step\n",
      "23/23 [==============================] - 0s 213us/step\n"
     ]
    }
   ],
   "source": [
    "# make predictions\n",
    "\n",
    "trainPredict = model.predict(trainX)\n",
    "testPredict = model.predict(testX)"
   ]
  },
  {
   "cell_type": "code",
   "execution_count": 104,
   "id": "b1a8ff61",
   "metadata": {},
   "outputs": [],
   "source": [
    "# Estimate model performance\n",
    "# Since we used minmaxscaler we can now use scaler.inverse_transform\n",
    "# to invert the transformation.\n",
    "\n",
    "trainPredict = scaler.inverse_transform(trainPredict)\n",
    "trainY_inverse = scaler.inverse_transform([trainY])\n",
    "testPredict = scaler.inverse_transform(testPredict)\n",
    "testY_inverse = scaler.inverse_transform([testY])"
   ]
  },
  {
   "cell_type": "code",
   "execution_count": 105,
   "id": "8d55c4a3",
   "metadata": {},
   "outputs": [
    {
     "name": "stdout",
     "output_type": "stream",
     "text": [
      "Train Score: 2.11 RMSE\n",
      "Test Score: 2.64 RMSE\n"
     ]
    }
   ],
   "source": [
    "# calculate root mean squared error\n",
    "trainScore = math.sqrt(mean_squared_error(trainY_inverse[0], trainPredict[:,0]))\n",
    "print('Train Score: %.2f RMSE' % (trainScore))\n",
    "\n",
    "testScore = math.sqrt(mean_squared_error(testY_inverse[0], testPredict[:,0]))\n",
    "print('Test Score: %.2f RMSE' % (testScore))"
   ]
  },
  {
   "cell_type": "code",
   "execution_count": 106,
   "id": "a4f430f2",
   "metadata": {},
   "outputs": [],
   "source": [
    "# shift train predictions for plotting\n",
    "# we must shift the predictions so that they align on the x-axis with the original dataset. \n",
    "trainPredictPlot = np.empty_like(dataset)\n",
    "trainPredictPlot[:, :] = np.nan\n",
    "trainPredictPlot[seq_size:len(trainPredict)+seq_size, :] = trainPredict"
   ]
  },
  {
   "cell_type": "code",
   "execution_count": 107,
   "id": "e7bbba30",
   "metadata": {},
   "outputs": [],
   "source": [
    "# shift test predictions for plotting\n",
    "testPredictPlot = np.empty_like(dataset)\n",
    "testPredictPlot[:, :] = np.nan\n",
    "testPredictPlot[len(trainPredict)+(seq_size*2)+1:len(dataset)-1, :] = testPredict"
   ]
  },
  {
   "cell_type": "code",
   "execution_count": 108,
   "id": "b5688e0a",
   "metadata": {},
   "outputs": [
    {
     "data": {
      "image/png": "[encoded data removed]",
      "text/plain": [
       "<Figure size 640x480 with 1 Axes>"
      ]
     },
     "metadata": {},
     "output_type": "display_data"
    }
   ],
   "source": [
    "# plot baseline and predictions\n",
    "plt.plot(scaler.inverse_transform(dataset))\n",
    "plt.plot(trainPredictPlot)\n",
    "plt.plot(testPredictPlot)\n",
    "plt.show()"
   ]
  },
  {
   "cell_type": "code",
   "execution_count": 111,
   "id": "418ef106",
   "metadata": {},
   "outputs": [
    {
     "data": {
      "text/plain": [
       "'# Make forecast using Feed Forward NN\\nforecast_period = 10  \\nforecast = model.forecast(steps=forecast_period)\\n\\n# Print the forecasts\\nprint(\"ARIMA Forecasts:\\n\", forecast)'"
      ]
     },
     "execution_count": 111,
     "metadata": {},
     "output_type": "execute_result"
    }
   ],
   "source": [
    "'''# Make forecast using Feed Forward NN\n",
    "forecast_period = 10  \n",
    "forecast = model.forecast(steps=forecast_period)\n",
    "\n",
    "# Print the forecasts\n",
    "print(\"ARIMA Forecasts:\\n\", forecast)'''"
   ]
  },
  {
   "cell_type": "code",
   "execution_count": 112,
   "id": "d224b122",
   "metadata": {},
   "outputs": [
    {
     "name": "stdout",
     "output_type": "stream",
     "text": [
      "1/1 [==============================] - 0s 169ms/step\n",
      "1/1 [==============================] - 0s 11ms/step\n",
      "1/1 [==============================] - 0s 6ms/step\n",
      "1/1 [==============================] - 0s 8ms/step\n",
      "1/1 [==============================] - 0s 10ms/step\n",
      "1/1 [==============================] - 0s 7ms/step\n",
      "1/1 [==============================] - 0s 7ms/step\n",
      "1/1 [==============================] - 0s 7ms/step\n",
      "1/1 [==============================] - 0s 6ms/step\n",
      "1/1 [==============================] - 0s 6ms/step\n",
      "Predictions for the next 10 elements:\n",
      "[[2.0487947]\n",
      " [1.0252758]\n",
      " [1.4806443]\n",
      " [2.1982646]\n",
      " [1.851219 ]\n",
      " [3.1220913]\n",
      " [4.507245 ]\n",
      " [2.8218458]\n",
      " [2.2926674]\n",
      " [1.2499908]]\n"
     ]
    }
   ],
   "source": [
    "# Set the sequence length for prediction\n",
    "seq_size = 10  # Number of time steps to use for prediction\n",
    "\n",
    "# Adjust the to_sequences function to create sequences of length seq_size\n",
    "trainX, trainY = to_sequences(train, seq_size)\n",
    "testX, testY = to_sequences(test, seq_size)\n",
    "\n",
    "# After training the model, create an input sequence for prediction\n",
    "# Use the last seq_size data points for prediction\n",
    "last_sequence = dataset[-seq_size:]\n",
    "\n",
    "# Reshape the input for prediction\n",
    "last_sequence = last_sequence.reshape((1, 1, 1, 1, seq_size))\n",
    "\n",
    "# Use the model to predict the next 10 elements\n",
    "predictions = []\n",
    "for _ in range(10):\n",
    "    prediction = model.predict(last_sequence)\n",
    "    predictions.append(prediction[0, 0])\n",
    "    # Update the input sequence by shifting the values to the left and adding the new prediction\n",
    "    last_sequence = np.roll(last_sequence, shift=-1)\n",
    "    last_sequence[0, 0, 0, 0, -1] = prediction\n",
    "\n",
    "# Invert the predictions to the original scale if needed\n",
    "predictions = scaler.inverse_transform(np.array(predictions).reshape(-1, 1))\n",
    "\n",
    "# Print or use the predictions for the next 10 elements\n",
    "print(\"Predictions for the next 10 elements:\")\n",
    "print(predictions)\n"
   ]
  },
  {
   "cell_type": "markdown",
   "id": "def0d32a",
   "metadata": {},
   "source": [
    "# LSTM"
   ]
  },
  {
   "cell_type": "code",
   "execution_count": 113,
   "id": "b1a21d6c",
   "metadata": {},
   "outputs": [
    {
     "name": "stdout",
     "output_type": "stream",
     "text": [
      "Shape of training set: (1434, 10)\n",
      "Shape of test set: (734, 10)\n"
     ]
    }
   ],
   "source": [
    "seq_size = 10  # Number of time steps to look back \n",
    "#Larger sequences (look further back) may improve forecasting.\n",
    "\n",
    "trainX, trainY = to_sequences(train, seq_size)\n",
    "testX, testY = to_sequences(test, seq_size)\n",
    "\n",
    "\n",
    "\n",
    "print(\"Shape of training set: {}\".format(trainX.shape))\n",
    "print(\"Shape of test set: {}\".format(testX.shape))"
   ]
  },
  {
   "cell_type": "code",
   "execution_count": 114,
   "id": "092fff7a",
   "metadata": {},
   "outputs": [
    {
     "name": "stdout",
     "output_type": "stream",
     "text": [
      "Model: \"sequential_5\"\n",
      "_________________________________________________________________\n",
      " Layer (type)                Output Shape              Param #   \n",
      "=================================================================\n",
      " conv_lstm2d_3 (ConvLSTM2D)  (None, 1, 1, 64)          19200     \n",
      "                                                                 \n",
      " flatten_2 (Flatten)         (None, 64)                0         \n",
      "                                                                 \n",
      " dense_10 (Dense)            (None, 32)                2080      \n",
      "                                                                 \n",
      " dense_11 (Dense)            (None, 1)                 33        \n",
      "                                                                 \n",
      "=================================================================\n",
      "Total params: 21,313\n",
      "Trainable params: 21,313\n",
      "Non-trainable params: 0\n",
      "_________________________________________________________________\n"
     ]
    }
   ],
   "source": [
    "#ConvLSTM\n",
    "#The layer expects input as a sequence of two-dimensional images, \n",
    "#therefore the shape of input data must be: [samples, timesteps, rows, columns, features]\n",
    "\n",
    "trainX = trainX.reshape((trainX.shape[0], 1, 1, 1, seq_size))\n",
    "testX = testX.reshape((testX.shape[0], 1, 1, 1, seq_size))\n",
    "\n",
    "model = Sequential()\n",
    "model.add(ConvLSTM2D(filters=64, kernel_size=(1,1), activation='relu', input_shape=(1, 1, 1, seq_size)))\n",
    "model.add(Flatten())\n",
    "model.add(Dense(32))\n",
    "model.add(Dense(1))\n",
    "model.compile(optimizer='adam', loss='mean_squared_error')\n",
    "model.summary()"
   ]
  },
  {
   "cell_type": "code",
   "execution_count": 115,
   "id": "dbb715e3",
   "metadata": {},
   "outputs": [
    {
     "name": "stdout",
     "output_type": "stream",
     "text": [
      "Epoch 1/100\n",
      "45/45 - 1s - loss: 0.0069 - val_loss: 0.0036 - 841ms/epoch - 19ms/step\n",
      "Epoch 2/100\n",
      "45/45 - 0s - loss: 0.0061 - val_loss: 0.0032 - 49ms/epoch - 1ms/step\n",
      "Epoch 3/100\n",
      "45/45 - 0s - loss: 0.0061 - val_loss: 0.0032 - 51ms/epoch - 1ms/step\n",
      "Epoch 4/100\n",
      "45/45 - 0s - loss: 0.0061 - val_loss: 0.0038 - 52ms/epoch - 1ms/step\n",
      "Epoch 5/100\n",
      "45/45 - 0s - loss: 0.0061 - val_loss: 0.0033 - 96ms/epoch - 2ms/step\n",
      "Epoch 6/100\n",
      "45/45 - 0s - loss: 0.0060 - val_loss: 0.0032 - 60ms/epoch - 1ms/step\n",
      "Epoch 7/100\n",
      "45/45 - 0s - loss: 0.0060 - val_loss: 0.0032 - 55ms/epoch - 1ms/step\n",
      "Epoch 8/100\n",
      "45/45 - 0s - loss: 0.0060 - val_loss: 0.0032 - 52ms/epoch - 1ms/step\n",
      "Epoch 9/100\n",
      "45/45 - 0s - loss: 0.0059 - val_loss: 0.0032 - 51ms/epoch - 1ms/step\n",
      "Epoch 10/100\n",
      "45/45 - 0s - loss: 0.0059 - val_loss: 0.0036 - 52ms/epoch - 1ms/step\n",
      "Epoch 11/100\n",
      "45/45 - 0s - loss: 0.0060 - val_loss: 0.0033 - 51ms/epoch - 1ms/step\n",
      "Epoch 12/100\n",
      "45/45 - 0s - loss: 0.0059 - val_loss: 0.0035 - 49ms/epoch - 1ms/step\n",
      "Epoch 13/100\n",
      "45/45 - 0s - loss: 0.0058 - val_loss: 0.0032 - 52ms/epoch - 1ms/step\n",
      "Epoch 14/100\n",
      "45/45 - 0s - loss: 0.0058 - val_loss: 0.0033 - 114ms/epoch - 3ms/step\n",
      "Epoch 15/100\n",
      "45/45 - 0s - loss: 0.0059 - val_loss: 0.0036 - 85ms/epoch - 2ms/step\n",
      "Epoch 16/100\n",
      "45/45 - 0s - loss: 0.0058 - val_loss: 0.0034 - 55ms/epoch - 1ms/step\n",
      "Epoch 17/100\n",
      "45/45 - 0s - loss: 0.0057 - val_loss: 0.0033 - 51ms/epoch - 1ms/step\n",
      "Epoch 18/100\n",
      "45/45 - 0s - loss: 0.0057 - val_loss: 0.0033 - 51ms/epoch - 1ms/step\n",
      "Epoch 19/100\n",
      "45/45 - 0s - loss: 0.0057 - val_loss: 0.0032 - 50ms/epoch - 1ms/step\n",
      "Epoch 20/100\n",
      "45/45 - 0s - loss: 0.0058 - val_loss: 0.0032 - 51ms/epoch - 1ms/step\n",
      "Epoch 21/100\n",
      "45/45 - 0s - loss: 0.0058 - val_loss: 0.0033 - 53ms/epoch - 1ms/step\n",
      "Epoch 22/100\n",
      "45/45 - 0s - loss: 0.0057 - val_loss: 0.0033 - 52ms/epoch - 1ms/step\n",
      "Epoch 23/100\n",
      "45/45 - 0s - loss: 0.0056 - val_loss: 0.0032 - 51ms/epoch - 1ms/step\n",
      "Epoch 24/100\n",
      "45/45 - 0s - loss: 0.0056 - val_loss: 0.0033 - 51ms/epoch - 1ms/step\n",
      "Epoch 25/100\n",
      "45/45 - 0s - loss: 0.0055 - val_loss: 0.0034 - 48ms/epoch - 1ms/step\n",
      "Epoch 26/100\n",
      "45/45 - 0s - loss: 0.0056 - val_loss: 0.0034 - 49ms/epoch - 1ms/step\n",
      "Epoch 27/100\n",
      "45/45 - 0s - loss: 0.0055 - val_loss: 0.0032 - 50ms/epoch - 1ms/step\n",
      "Epoch 28/100\n",
      "45/45 - 0s - loss: 0.0054 - val_loss: 0.0033 - 60ms/epoch - 1ms/step\n",
      "Epoch 29/100\n",
      "45/45 - 0s - loss: 0.0054 - val_loss: 0.0034 - 52ms/epoch - 1ms/step\n",
      "Epoch 30/100\n",
      "45/45 - 0s - loss: 0.0055 - val_loss: 0.0034 - 48ms/epoch - 1ms/step\n",
      "Epoch 31/100\n",
      "45/45 - 0s - loss: 0.0055 - val_loss: 0.0033 - 48ms/epoch - 1ms/step\n",
      "Epoch 32/100\n",
      "45/45 - 0s - loss: 0.0054 - val_loss: 0.0033 - 49ms/epoch - 1ms/step\n",
      "Epoch 33/100\n",
      "45/45 - 0s - loss: 0.0054 - val_loss: 0.0033 - 49ms/epoch - 1ms/step\n",
      "Epoch 34/100\n",
      "45/45 - 0s - loss: 0.0054 - val_loss: 0.0035 - 50ms/epoch - 1ms/step\n",
      "Epoch 35/100\n",
      "45/45 - 0s - loss: 0.0054 - val_loss: 0.0033 - 53ms/epoch - 1ms/step\n",
      "Epoch 36/100\n",
      "45/45 - 0s - loss: 0.0053 - val_loss: 0.0034 - 52ms/epoch - 1ms/step\n",
      "Epoch 37/100\n",
      "45/45 - 0s - loss: 0.0053 - val_loss: 0.0033 - 51ms/epoch - 1ms/step\n",
      "Epoch 38/100\n",
      "45/45 - 0s - loss: 0.0053 - val_loss: 0.0034 - 56ms/epoch - 1ms/step\n",
      "Epoch 39/100\n",
      "45/45 - 0s - loss: 0.0053 - val_loss: 0.0034 - 51ms/epoch - 1ms/step\n",
      "Epoch 40/100\n",
      "45/45 - 0s - loss: 0.0052 - val_loss: 0.0034 - 52ms/epoch - 1ms/step\n",
      "Epoch 41/100\n",
      "45/45 - 0s - loss: 0.0053 - val_loss: 0.0039 - 52ms/epoch - 1ms/step\n",
      "Epoch 42/100\n",
      "45/45 - 0s - loss: 0.0052 - val_loss: 0.0035 - 51ms/epoch - 1ms/step\n",
      "Epoch 43/100\n",
      "45/45 - 0s - loss: 0.0052 - val_loss: 0.0038 - 53ms/epoch - 1ms/step\n",
      "Epoch 44/100\n",
      "45/45 - 0s - loss: 0.0052 - val_loss: 0.0034 - 53ms/epoch - 1ms/step\n",
      "Epoch 45/100\n",
      "45/45 - 0s - loss: 0.0052 - val_loss: 0.0034 - 52ms/epoch - 1ms/step\n",
      "Epoch 46/100\n",
      "45/45 - 0s - loss: 0.0051 - val_loss: 0.0035 - 54ms/epoch - 1ms/step\n",
      "Epoch 47/100\n",
      "45/45 - 0s - loss: 0.0051 - val_loss: 0.0035 - 52ms/epoch - 1ms/step\n",
      "Epoch 48/100\n",
      "45/45 - 0s - loss: 0.0051 - val_loss: 0.0034 - 52ms/epoch - 1ms/step\n",
      "Epoch 49/100\n",
      "45/45 - 0s - loss: 0.0051 - val_loss: 0.0034 - 52ms/epoch - 1ms/step\n",
      "Epoch 50/100\n",
      "45/45 - 0s - loss: 0.0051 - val_loss: 0.0035 - 53ms/epoch - 1ms/step\n",
      "Epoch 51/100\n",
      "45/45 - 0s - loss: 0.0050 - val_loss: 0.0036 - 52ms/epoch - 1ms/step\n",
      "Epoch 52/100\n",
      "45/45 - 0s - loss: 0.0051 - val_loss: 0.0037 - 54ms/epoch - 1ms/step\n",
      "Epoch 53/100\n",
      "45/45 - 0s - loss: 0.0050 - val_loss: 0.0037 - 53ms/epoch - 1ms/step\n",
      "Epoch 54/100\n",
      "45/45 - 0s - loss: 0.0050 - val_loss: 0.0037 - 55ms/epoch - 1ms/step\n",
      "Epoch 55/100\n",
      "45/45 - 0s - loss: 0.0050 - val_loss: 0.0037 - 53ms/epoch - 1ms/step\n",
      "Epoch 56/100\n",
      "45/45 - 0s - loss: 0.0050 - val_loss: 0.0035 - 56ms/epoch - 1ms/step\n",
      "Epoch 57/100\n",
      "45/45 - 0s - loss: 0.0050 - val_loss: 0.0035 - 55ms/epoch - 1ms/step\n",
      "Epoch 58/100\n",
      "45/45 - 0s - loss: 0.0050 - val_loss: 0.0036 - 50ms/epoch - 1ms/step\n",
      "Epoch 59/100\n",
      "45/45 - 0s - loss: 0.0049 - val_loss: 0.0035 - 56ms/epoch - 1ms/step\n",
      "Epoch 60/100\n",
      "45/45 - 0s - loss: 0.0050 - val_loss: 0.0037 - 77ms/epoch - 2ms/step\n",
      "Epoch 61/100\n",
      "45/45 - 0s - loss: 0.0049 - val_loss: 0.0037 - 94ms/epoch - 2ms/step\n",
      "Epoch 62/100\n",
      "45/45 - 0s - loss: 0.0049 - val_loss: 0.0039 - 94ms/epoch - 2ms/step\n",
      "Epoch 63/100\n",
      "45/45 - 0s - loss: 0.0050 - val_loss: 0.0036 - 56ms/epoch - 1ms/step\n",
      "Epoch 64/100\n",
      "45/45 - 0s - loss: 0.0048 - val_loss: 0.0035 - 54ms/epoch - 1ms/step\n",
      "Epoch 65/100\n",
      "45/45 - 0s - loss: 0.0048 - val_loss: 0.0039 - 52ms/epoch - 1ms/step\n",
      "Epoch 66/100\n",
      "45/45 - 0s - loss: 0.0048 - val_loss: 0.0036 - 51ms/epoch - 1ms/step\n",
      "Epoch 67/100\n",
      "45/45 - 0s - loss: 0.0049 - val_loss: 0.0037 - 51ms/epoch - 1ms/step\n",
      "Epoch 68/100\n",
      "45/45 - 0s - loss: 0.0048 - val_loss: 0.0038 - 50ms/epoch - 1ms/step\n",
      "Epoch 69/100\n",
      "45/45 - 0s - loss: 0.0048 - val_loss: 0.0037 - 55ms/epoch - 1ms/step\n",
      "Epoch 70/100\n",
      "45/45 - 0s - loss: 0.0048 - val_loss: 0.0037 - 52ms/epoch - 1ms/step\n",
      "Epoch 71/100\n",
      "45/45 - 0s - loss: 0.0048 - val_loss: 0.0036 - 48ms/epoch - 1ms/step\n",
      "Epoch 72/100\n",
      "45/45 - 0s - loss: 0.0047 - val_loss: 0.0038 - 50ms/epoch - 1ms/step\n",
      "Epoch 73/100\n",
      "45/45 - 0s - loss: 0.0047 - val_loss: 0.0038 - 53ms/epoch - 1ms/step\n",
      "Epoch 74/100\n",
      "45/45 - 0s - loss: 0.0047 - val_loss: 0.0038 - 52ms/epoch - 1ms/step\n",
      "Epoch 75/100\n",
      "45/45 - 0s - loss: 0.0047 - val_loss: 0.0041 - 52ms/epoch - 1ms/step\n",
      "Epoch 76/100\n",
      "45/45 - 0s - loss: 0.0047 - val_loss: 0.0036 - 53ms/epoch - 1ms/step\n",
      "Epoch 77/100\n",
      "45/45 - 0s - loss: 0.0047 - val_loss: 0.0036 - 53ms/epoch - 1ms/step\n",
      "Epoch 78/100\n",
      "45/45 - 0s - loss: 0.0047 - val_loss: 0.0036 - 51ms/epoch - 1ms/step\n",
      "Epoch 79/100\n",
      "45/45 - 0s - loss: 0.0046 - val_loss: 0.0036 - 53ms/epoch - 1ms/step\n",
      "Epoch 80/100\n",
      "45/45 - 0s - loss: 0.0047 - val_loss: 0.0036 - 52ms/epoch - 1ms/step\n",
      "Epoch 81/100\n",
      "45/45 - 0s - loss: 0.0046 - val_loss: 0.0038 - 53ms/epoch - 1ms/step\n",
      "Epoch 82/100\n",
      "45/45 - 0s - loss: 0.0046 - val_loss: 0.0037 - 49ms/epoch - 1ms/step\n",
      "Epoch 83/100\n",
      "45/45 - 0s - loss: 0.0046 - val_loss: 0.0036 - 53ms/epoch - 1ms/step\n",
      "Epoch 84/100\n",
      "45/45 - 0s - loss: 0.0046 - val_loss: 0.0037 - 52ms/epoch - 1ms/step\n",
      "Epoch 85/100\n",
      "45/45 - 0s - loss: 0.0046 - val_loss: 0.0037 - 50ms/epoch - 1ms/step\n",
      "Epoch 86/100\n",
      "45/45 - 0s - loss: 0.0046 - val_loss: 0.0037 - 53ms/epoch - 1ms/step\n",
      "Epoch 87/100\n",
      "45/45 - 0s - loss: 0.0045 - val_loss: 0.0038 - 52ms/epoch - 1ms/step\n",
      "Epoch 88/100\n",
      "45/45 - 0s - loss: 0.0045 - val_loss: 0.0036 - 49ms/epoch - 1ms/step\n",
      "Epoch 89/100\n",
      "45/45 - 0s - loss: 0.0046 - val_loss: 0.0036 - 48ms/epoch - 1ms/step\n",
      "Epoch 90/100\n",
      "45/45 - 0s - loss: 0.0045 - val_loss: 0.0039 - 49ms/epoch - 1ms/step\n",
      "Epoch 91/100\n",
      "45/45 - 0s - loss: 0.0044 - val_loss: 0.0038 - 52ms/epoch - 1ms/step\n",
      "Epoch 92/100\n",
      "45/45 - 0s - loss: 0.0045 - val_loss: 0.0037 - 51ms/epoch - 1ms/step\n",
      "Epoch 93/100\n",
      "45/45 - 0s - loss: 0.0046 - val_loss: 0.0039 - 48ms/epoch - 1ms/step\n",
      "Epoch 94/100\n",
      "45/45 - 0s - loss: 0.0045 - val_loss: 0.0039 - 51ms/epoch - 1ms/step\n",
      "Epoch 95/100\n",
      "45/45 - 0s - loss: 0.0045 - val_loss: 0.0042 - 48ms/epoch - 1ms/step\n",
      "Epoch 96/100\n",
      "45/45 - 0s - loss: 0.0045 - val_loss: 0.0038 - 50ms/epoch - 1ms/step\n",
      "Epoch 97/100\n",
      "45/45 - 0s - loss: 0.0044 - val_loss: 0.0038 - 47ms/epoch - 1ms/step\n",
      "Epoch 98/100\n",
      "45/45 - 0s - loss: 0.0045 - val_loss: 0.0037 - 48ms/epoch - 1ms/step\n",
      "Epoch 99/100\n",
      "45/45 - 0s - loss: 0.0044 - val_loss: 0.0037 - 52ms/epoch - 1ms/step\n",
      "Epoch 100/100\n",
      "45/45 - 0s - loss: 0.0044 - val_loss: 0.0039 - 49ms/epoch - 1ms/step\n"
     ]
    },
    {
     "name": "stdout",
     "output_type": "stream",
     "text": [
      "45/45 [==============================] - 0s 303us/step\n",
      "23/23 [==============================] - 0s 302us/step\n"
     ]
    }
   ],
   "source": [
    "model.fit(trainX, trainY, validation_data=(testX, testY),\n",
    "          verbose=2, epochs=100)\n",
    "\n",
    "\n",
    "# make predictions\n",
    "\n",
    "trainPredict = model.predict(trainX)\n",
    "testPredict = model.predict(testX)"
   ]
  },
  {
   "cell_type": "code",
   "execution_count": 116,
   "id": "d791e310",
   "metadata": {},
   "outputs": [],
   "source": [
    "# invert predictions back to prescaled values\n",
    "#This is to compare with original input values\n",
    "#SInce we used minmaxscaler we can now use scaler.inverse_transform\n",
    "#to invert the transformation.\n",
    "trainPredict = scaler.inverse_transform(trainPredict)\n",
    "trainY = scaler.inverse_transform([trainY])\n",
    "testPredict = scaler.inverse_transform(testPredict)\n",
    "testY = scaler.inverse_transform([testY])"
   ]
  },
  {
   "cell_type": "code",
   "execution_count": 117,
   "id": "1150ba4f",
   "metadata": {},
   "outputs": [
    {
     "name": "stdout",
     "output_type": "stream",
     "text": [
      "Train Score: 2.54 RMSE\n",
      "Test Score: 2.42 RMSE\n"
     ]
    }
   ],
   "source": [
    "# calculate root mean squared error\n",
    "trainScore = math.sqrt(mean_squared_error(trainY[0], trainPredict[:,0]))\n",
    "print('Train Score: %.2f RMSE' % (trainScore))\n",
    "\n",
    "testScore = math.sqrt(mean_squared_error(testY[0], testPredict[:,0]))\n",
    "print('Test Score: %.2f RMSE' % (testScore))"
   ]
  },
  {
   "cell_type": "code",
   "execution_count": 118,
   "id": "a19da1c3",
   "metadata": {},
   "outputs": [
    {
     "data": {
      "image/png": "[encoded data removed]",
      "text/plain": [
       "<Figure size 640x480 with 1 Axes>"
      ]
     },
     "metadata": {},
     "output_type": "display_data"
    }
   ],
   "source": [
    "# shift train predictions for plotting\n",
    "#we must shift the predictions so that they align on the x-axis with the original dataset. \n",
    "trainPredictPlot = np.empty_like(dataset)\n",
    "trainPredictPlot[:, :] = np.nan\n",
    "trainPredictPlot[seq_size:len(trainPredict)+seq_size, :] = trainPredict\n",
    "\n",
    "# shift test predictions for plotting\n",
    "testPredictPlot = np.empty_like(dataset)\n",
    "testPredictPlot[:, :] = np.nan\n",
    "testPredictPlot[len(trainPredict)+(seq_size*2)+1:len(dataset)-1, :] = testPredict\n",
    "\n",
    "# plot baseline and predictions\n",
    "plt.plot(scaler.inverse_transform(dataset))\n",
    "plt.plot(trainPredictPlot)\n",
    "plt.plot(testPredictPlot)\n",
    "plt.show()"
   ]
  },
  {
   "cell_type": "code",
   "execution_count": 123,
   "id": "6f31649b",
   "metadata": {
    "scrolled": true
   },
   "outputs": [
    {
     "name": "stdout",
     "output_type": "stream",
     "text": [
      "1/1 [==============================] - 0s 94ms/step\n",
      "1/1 [==============================] - 0s 21ms/step\n",
      "1/1 [==============================] - 0s 13ms/step\n",
      "1/1 [==============================] - 0s 8ms/step\n",
      "1/1 [==============================] - 0s 42ms/step\n",
      "1/1 [==============================] - 0s 8ms/step\n",
      "1/1 [==============================] - 0s 7ms/step\n",
      "1/1 [==============================] - 0s 6ms/step\n",
      "1/1 [==============================] - 0s 7ms/step\n",
      "1/1 [==============================] - 0s 6ms/step\n",
      "Predictions for the next 10 elements:\n",
      "[[0.5520483]\n",
      " [0.6263489]\n",
      " [1.6248921]\n",
      " [1.800964 ]\n",
      " [1.6327966]\n",
      " [1.2876066]\n",
      " [1.8911806]\n",
      " [2.0379376]\n",
      " [1.9595985]\n",
      " [1.7454612]]\n"
     ]
    }
   ],
   "source": [
    "# Set the sequence length for prediction\n",
    "seq_size = 10  # Number of time steps to use for prediction\n",
    "\n",
    "# ...\n",
    "\n",
    "# Adjust the to_sequences function to create sequences of length seq_size\n",
    "trainX, trainY = to_sequences(train, seq_size)\n",
    "testX, testY = to_sequences(test, seq_size)\n",
    "\n",
    "# ...\n",
    "\n",
    "# After training the model, create an input sequence for prediction\n",
    "# Use the last seq_size data points for prediction\n",
    "last_sequence = dataset[-seq_size:]\n",
    "\n",
    "# Reshape the input for prediction\n",
    "last_sequence = last_sequence.reshape((1, 1, 1, 1, seq_size))\n",
    "\n",
    "# Use the model to predict the next 10 elements\n",
    "predictions = []\n",
    "for _ in range(10):\n",
    "    prediction = model.predict(last_sequence)\n",
    "    predictions.append(prediction[0, 0])\n",
    "    # Update the input sequence by shifting the values to the left and adding the new prediction\n",
    "    last_sequence = np.roll(last_sequence, shift=-1)\n",
    "    last_sequence[0, 0, 0, 0, -1] = prediction\n",
    "\n",
    "# Invert the predictions to the original scale if needed\n",
    "predictions = scaler.inverse_transform(np.array(predictions).reshape(-1, 1))\n",
    "\n",
    "# Print or use the predictions for the next 10 elements\n",
    "print(\"Predictions for the next 10 elements:\")\n",
    "print(predictions)\n"
   ]
  }
 ],
 "metadata": {
  "kernelspec": {
   "display_name": "new-learn2",
   "language": "python",
   "name": "new-learn2"
  },
  "language_info": {
   "codemirror_mode": {
    "name": "ipython",
    "version": 3
   },
   "file_extension": ".py",
   "mimetype": "text/x-python",
   "name": "python",
   "nbconvert_exporter": "python",
   "pygments_lexer": "ipython3",
   "version": "3.11.5"
  }
 },
 "nbformat": 4,
 "nbformat_minor": 5
}
